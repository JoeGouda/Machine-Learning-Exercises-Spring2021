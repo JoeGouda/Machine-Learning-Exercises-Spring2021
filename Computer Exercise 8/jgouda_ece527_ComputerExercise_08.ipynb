{
 "cells": [
  {
   "cell_type": "markdown",
   "metadata": {},
   "source": [
    "# Computer Exercise \\#07\n",
    "\n",
    "### Some basic code to get you started"
   ]
  },
  {
   "cell_type": "code",
   "execution_count": 47,
   "metadata": {},
   "outputs": [
    {
     "name": "stdout",
     "output_type": "stream",
     "text": [
      "tf:  2.7.0\n",
      "keras:  2.7.0\n"
     ]
    }
   ],
   "source": [
    "import tensorflow as tf\n",
    "print('tf: ', tf.__version__)\n",
    "from tensorflow import keras\n",
    "print('keras: ', keras.__version__)\n",
    "import numpy as np\n",
    "from keras import Input as Input\n",
    "from keras.datasets import mnist\n",
    "from keras.layers import Dense, Flatten, Conv2D, MaxPooling2D, Dropout, Activation\n",
    "from keras.models import Sequential\n",
    "from keras.utils import np_utils\n",
    "import matplotlib\n",
    "import matplotlib.pyplot as plt"
   ]
  },
  {
   "cell_type": "code",
   "execution_count": 2,
   "metadata": {},
   "outputs": [],
   "source": [
    "# load the MNIST data set, which already splits into training and test sets.\n",
    "(x_train, y_train), (x_test, y_test) = mnist.load_data()\n",
    "#Reshape the data into a 4d tensor\n",
    "img_x, img_y = 28, 28\n",
    "x_train = x_train.reshape(x_train.shape[0], img_x, img_y, 1)\n",
    "x_test = x_test.reshape(x_test.shape[0], img_x, img_y, 1)"
   ]
  },
  {
   "cell_type": "code",
   "execution_count": 3,
   "metadata": {},
   "outputs": [],
   "source": [
    "# convert the data to the right type\n",
    "x_train = x_train.astype('float32')\n",
    "x_test = x_test.astype('float32')\n",
    "x_train /= 255\n",
    "x_test /= 255"
   ]
  },
  {
   "cell_type": "markdown",
   "metadata": {},
   "source": [
    "## Question: ##\n",
    "What do you get when you type y_train[0]?"
   ]
  },
  {
   "cell_type": "code",
   "execution_count": 4,
   "metadata": {},
   "outputs": [
    {
     "data": {
      "text/plain": [
       "5"
      ]
     },
     "execution_count": 4,
     "metadata": {},
     "output_type": "execute_result"
    }
   ],
   "source": [
    "y_train[0]"
   ]
  },
  {
   "cell_type": "code",
   "execution_count": 5,
   "metadata": {},
   "outputs": [
    {
     "name": "stdout",
     "output_type": "stream",
     "text": [
      "<class 'numpy.uint8'>\n"
     ]
    }
   ],
   "source": [
    "print(type(y_train[0]))"
   ]
  },
  {
   "cell_type": "code",
   "execution_count": 6,
   "metadata": {},
   "outputs": [],
   "source": [
    "# one-hot encode the target values\n",
    "num_classes=10\n",
    "y_train = np_utils.to_categorical(y_train, num_classes)\n",
    "y_test = np_utils.to_categorical(y_test, num_classes)"
   ]
  },
  {
   "cell_type": "markdown",
   "metadata": {},
   "source": [
    "## Questions: ##\n",
    "i. Now what do you get when you type y_train[0]?\n",
    "> array([0., 0., 0., 0., 0., 1., 0., 0., 0., 0.], dtype=float32)\n",
    "\n",
    "ii. How has the encoding of the target values changed, and why is this change necessary? \n",
    "> Since there are now a total of 10 classes, the encoding of the target vaues must be changed to reflect and accomodate that. As such, we now have an array of length 10 with numerical values signifying the similarity to classes: 0-9. This is a form of binary array classification."
   ]
  },
  {
   "cell_type": "code",
   "execution_count": 7,
   "metadata": {},
   "outputs": [
    {
     "data": {
      "text/plain": [
       "array([0., 0., 0., 0., 0., 1., 0., 0., 0., 0.], dtype=float32)"
      ]
     },
     "execution_count": 7,
     "metadata": {},
     "output_type": "execute_result"
    }
   ],
   "source": [
    "y_train[0]"
   ]
  },
  {
   "cell_type": "code",
   "execution_count": 8,
   "metadata": {},
   "outputs": [
    {
     "name": "stdout",
     "output_type": "stream",
     "text": [
      "<class 'numpy.ndarray'>\n"
     ]
    }
   ],
   "source": [
    "print(type(y_train[0]))"
   ]
  },
  {
   "cell_type": "code",
   "execution_count": 9,
   "metadata": {},
   "outputs": [],
   "source": [
    "# A simple model\n",
    "model = Sequential()\n",
    "model.add(keras.Input(shape=(28,28,)))\n",
    "model.add(Flatten())\n",
    "model.add(Dense(32,))\n",
    "model.add(Dense(10,))"
   ]
  },
  {
   "cell_type": "markdown",
   "metadata": {},
   "source": [
    "## Questions: ##\n",
    "\n",
    "__i.__ What is the structure of this network? Be as specific as you can, e.g. number of\n",
    "layers, number of neurons in each layer, output size, activation functions, etc.\n",
    "> The model is sequential. There are three layers compossed of: a Flatten layer with no neurons, a Dense layer with 32 neurons, and another Dense layer of 10 neurons.\n"
   ]
  },
  {
   "cell_type": "code",
   "execution_count": 10,
   "metadata": {},
   "outputs": [
    {
     "name": "stdout",
     "output_type": "stream",
     "text": [
      "Model: \"sequential\"\n",
      "_________________________________________________________________\n",
      " Layer (type)                Output Shape              Param #   \n",
      "=================================================================\n",
      " flatten (Flatten)           (None, 784)               0         \n",
      "                                                                 \n",
      " dense (Dense)               (None, 32)                25120     \n",
      "                                                                 \n",
      " dense_1 (Dense)             (None, 10)                330       \n",
      "                                                                 \n",
      "=================================================================\n",
      "Total params: 25,450\n",
      "Trainable params: 25,450\n",
      "Non-trainable params: 0\n",
      "_________________________________________________________________\n"
     ]
    }
   ],
   "source": [
    "model.summary()"
   ]
  },
  {
   "cell_type": "markdown",
   "metadata": {},
   "source": [
    "__ii.__ Use model.get_weights() to see what the weights are in the network. What are\n",
    "they, and where do these values come from?\n",
    "\n",
    "> The weights for each layer are seen below. The weights come from the outputs of each layer."
   ]
  },
  {
   "cell_type": "code",
   "execution_count": 11,
   "metadata": {},
   "outputs": [
    {
     "name": "stdout",
     "output_type": "stream",
     "text": [
      "{'name': 'flatten', 'trainable': True, 'dtype': 'float32', 'data_format': 'channels_last'} []\n",
      "{'name': 'dense', 'trainable': True, 'dtype': 'float32', 'units': 32, 'activation': 'linear', 'use_bias': True, 'kernel_initializer': {'class_name': 'GlorotUniform', 'config': {'seed': None}}, 'bias_initializer': {'class_name': 'Zeros', 'config': {}}, 'kernel_regularizer': None, 'bias_regularizer': None, 'activity_regularizer': None, 'kernel_constraint': None, 'bias_constraint': None} [array([[ 0.08301381, -0.04629159, -0.07816289, ..., -0.08106566,\n",
      "         0.04290267, -0.05889638],\n",
      "       [ 0.01480237,  0.01083061, -0.0334682 , ..., -0.08214426,\n",
      "        -0.01700132,  0.00059175],\n",
      "       [-0.08355888, -0.08400769,  0.01756856, ..., -0.00183865,\n",
      "        -0.07680662,  0.02014629],\n",
      "       ...,\n",
      "       [ 0.00492831,  0.01092333, -0.05581471, ..., -0.04343447,\n",
      "         0.03548449,  0.03207564],\n",
      "       [ 0.03952547, -0.07597178,  0.05068462, ...,  0.03901941,\n",
      "         0.07136188, -0.06218211],\n",
      "       [-0.06040001, -0.05110187, -0.00504586, ..., -0.05160282,\n",
      "        -0.01781368,  0.05262118]], dtype=float32), array([0., 0., 0., 0., 0., 0., 0., 0., 0., 0., 0., 0., 0., 0., 0., 0., 0.,\n",
      "       0., 0., 0., 0., 0., 0., 0., 0., 0., 0., 0., 0., 0., 0., 0.],\n",
      "      dtype=float32)]\n",
      "{'name': 'dense_1', 'trainable': True, 'dtype': 'float32', 'units': 10, 'activation': 'linear', 'use_bias': True, 'kernel_initializer': {'class_name': 'GlorotUniform', 'config': {'seed': None}}, 'bias_initializer': {'class_name': 'Zeros', 'config': {}}, 'kernel_regularizer': None, 'bias_regularizer': None, 'activity_regularizer': None, 'kernel_constraint': None, 'bias_constraint': None} [array([[ 0.23993608,  0.16485551,  0.34650353,  0.2128658 ,  0.16021809,\n",
      "        -0.05931783, -0.0389905 , -0.12097356,  0.33101466, -0.09506443],\n",
      "       [-0.12746951, -0.2011083 , -0.1473158 , -0.0022805 , -0.16516598,\n",
      "         0.25832936,  0.3025246 ,  0.21882764,  0.06934461, -0.15948431],\n",
      "       [-0.16595213,  0.10044691,  0.05486628,  0.13580397,  0.25369343,\n",
      "        -0.2669645 , -0.04799062,  0.08750567, -0.24291071,  0.34253618],\n",
      "       [-0.1394823 , -0.31801313, -0.13991971, -0.23374957,  0.22721735,\n",
      "         0.22295132,  0.11597216,  0.09793833, -0.3468389 ,  0.37049773],\n",
      "       [-0.23107699, -0.02169219, -0.3075221 , -0.09616229, -0.12135744,\n",
      "         0.17774323, -0.15173101,  0.1151832 ,  0.03999132, -0.11837405],\n",
      "       [-0.29385707, -0.28966868,  0.2296916 , -0.19068484, -0.3204973 ,\n",
      "         0.09111896,  0.24171337, -0.32245213, -0.05719268,  0.20837995],\n",
      "       [-0.24276726,  0.2801297 ,  0.06637183,  0.14935812,  0.09378687,\n",
      "        -0.26585376, -0.36936024,  0.25867882,  0.03448075, -0.14567743],\n",
      "       [-0.06866884,  0.31541452, -0.03868422, -0.13958439,  0.03916118,\n",
      "        -0.33007425, -0.11710697, -0.31087065, -0.20023212,  0.36544904],\n",
      "       [ 0.33346298, -0.06269547,  0.23080131, -0.17608254, -0.24712668,\n",
      "         0.28370556,  0.02168939, -0.34172216,  0.2729127 ,  0.29919007],\n",
      "       [ 0.04407346,  0.04884291,  0.24929962, -0.27529237, -0.35412973,\n",
      "         0.3248755 , -0.22139949, -0.3454654 , -0.13704175, -0.15492311],\n",
      "       [ 0.15812686,  0.16035965, -0.06873497, -0.16977017, -0.37383446,\n",
      "        -0.01848847, -0.31229562,  0.21604332,  0.37308988, -0.33264807],\n",
      "       [-0.13313334, -0.31645662,  0.30710873, -0.35389617, -0.2691704 ,\n",
      "        -0.16662852,  0.10990173, -0.37100995, -0.19172737,  0.04718763],\n",
      "       [-0.35917997, -0.12566832,  0.35957935,  0.09554183, -0.03528702,\n",
      "         0.07604977,  0.00277829,  0.3320851 ,  0.02611333,  0.22060916],\n",
      "       [ 0.02806899,  0.06269071,  0.10815668,  0.27677754, -0.05816528,\n",
      "        -0.00093052, -0.2577    ,  0.06911707, -0.35077265, -0.0946224 ],\n",
      "       [ 0.00545883, -0.34144336, -0.16806458, -0.27304548,  0.00811592,\n",
      "        -0.32449684,  0.10442013, -0.1433635 , -0.32869142, -0.18412042],\n",
      "       [-0.24707739, -0.00465727,  0.04211411, -0.32980415, -0.21058296,\n",
      "        -0.3042763 ,  0.04964843, -0.2447612 , -0.04174852,  0.02820298],\n",
      "       [-0.33116588,  0.30811533,  0.10824907, -0.33376682, -0.04010621,\n",
      "        -0.08647144,  0.2810928 , -0.08486119, -0.17622375, -0.33682114],\n",
      "       [-0.28045714,  0.09132263, -0.31809172, -0.22788939, -0.31718257,\n",
      "        -0.21165809, -0.20119129, -0.16884317,  0.21178517, -0.18926078],\n",
      "       [ 0.14973941,  0.32683584,  0.24011025, -0.35157582,  0.21739826,\n",
      "         0.22145256, -0.23668747,  0.17894736,  0.25992242,  0.0020591 ],\n",
      "       [ 0.30634275, -0.04199138,  0.02204299,  0.18845883,  0.01783377,\n",
      "         0.37139204,  0.10943991, -0.21246219,  0.175742  , -0.11618122],\n",
      "       [-0.19065952, -0.16140698, -0.02294412, -0.3374979 ,  0.13062546,\n",
      "         0.07379487, -0.2883776 ,  0.19900432,  0.29377308,  0.2694538 ],\n",
      "       [-0.24852039, -0.1427628 , -0.34181434,  0.37076142, -0.3520654 ,\n",
      "         0.07359564,  0.07098937, -0.28709087,  0.11126867, -0.07772627],\n",
      "       [ 0.18147096, -0.3483002 , -0.14048013, -0.01261711, -0.31294918,\n",
      "        -0.11819842, -0.195167  , -0.31464973, -0.01732907,  0.0899373 ],\n",
      "       [ 0.01271668,  0.25333014,  0.03145492, -0.10701287,  0.1643078 ,\n",
      "        -0.3677655 ,  0.00583217,  0.23407057, -0.04327604,  0.35765263],\n",
      "       [ 0.23849812,  0.24305841, -0.17512643,  0.11001068, -0.20829505,\n",
      "        -0.28316876, -0.12383053,  0.00172424, -0.1769205 ,  0.18933389],\n",
      "       [ 0.27763405, -0.16055702,  0.17930427, -0.34083164,  0.263262  ,\n",
      "        -0.04712039, -0.35274604,  0.06067261,  0.28515056,  0.05362678],\n",
      "       [ 0.05505121,  0.36467513,  0.30209908,  0.01918459,  0.31126282,\n",
      "        -0.22452644,  0.27520463,  0.24547383, -0.31659096,  0.06188995],\n",
      "       [ 0.11911759, -0.14709908,  0.04910091, -0.09027126, -0.04236916,\n",
      "        -0.3380265 , -0.19379124,  0.35676745,  0.11034665,  0.346356  ],\n",
      "       [-0.09486949,  0.3477814 ,  0.26570114,  0.30160323,  0.2748998 ,\n",
      "        -0.10754654,  0.2506512 ,  0.28713897, -0.18361136,  0.11407202],\n",
      "       [ 0.2551448 , -0.07342973, -0.28236595,  0.03310075, -0.05547503,\n",
      "         0.1455901 , -0.27602157, -0.1121527 ,  0.3063626 ,  0.27926937],\n",
      "       [ 0.32611093, -0.27812988,  0.15462664, -0.23727743,  0.28494313,\n",
      "        -0.3112639 ,  0.15213731, -0.22759111, -0.29350537,  0.34327754],\n",
      "       [ 0.21684578, -0.15914251,  0.23954752, -0.30211383, -0.10961121,\n",
      "         0.12860134,  0.05721575, -0.17377022,  0.11927304,  0.12447307]],\n",
      "      dtype=float32), array([0., 0., 0., 0., 0., 0., 0., 0., 0., 0.], dtype=float32)]\n"
     ]
    }
   ],
   "source": [
    "for layer in model.layers: print(layer.get_config(), layer.get_weights())"
   ]
  },
  {
   "cell_type": "code",
   "execution_count": 12,
   "metadata": {},
   "outputs": [],
   "source": [
    "num_classes=10\n",
    "model = Sequential()\n",
    "model.add(Input(shape=(28,28,1)))\n",
    "model.add(Conv2D(32, kernel_size=(5, 5), activation='relu'))\n",
    "model.add(MaxPooling2D(pool_size=(2, 2)))\n",
    "model.add(Conv2D(64, (5, 5), activation='relu'))\n",
    "model.add(MaxPooling2D(pool_size=(2, 2)))\n",
    "model.add(Flatten())\n",
    "model.add(Dense(1000, activation='relu'))\n",
    "model.add(Dense(num_classes, activation='softmax'))"
   ]
  },
  {
   "cell_type": "markdown",
   "metadata": {},
   "source": [
    "## Questions: ##\n",
    "__i.__ What is the structure of this network? Be as specific as you can, e.g. number of layers, number of neurons in each layer, output size, activation functions, etc.\n",
    "> The network is sequential. There are 7 layers excluding the input layer. the number of neurons are: 32, 4, 64, 4, 1(or 0), 1000, and 10. The activation functions and other specifics can be seen in In[13] below.\n",
    "\n"
   ]
  },
  {
   "cell_type": "code",
   "execution_count": 13,
   "metadata": {},
   "outputs": [
    {
     "name": "stdout",
     "output_type": "stream",
     "text": [
      "Model: \"sequential_1\"\n",
      "_________________________________________________________________\n",
      " Layer (type)                Output Shape              Param #   \n",
      "=================================================================\n",
      " conv2d (Conv2D)             (None, 24, 24, 32)        832       \n",
      "                                                                 \n",
      " max_pooling2d (MaxPooling2D  (None, 12, 12, 32)       0         \n",
      " )                                                               \n",
      "                                                                 \n",
      " conv2d_1 (Conv2D)           (None, 8, 8, 64)          51264     \n",
      "                                                                 \n",
      " max_pooling2d_1 (MaxPooling  (None, 4, 4, 64)         0         \n",
      " 2D)                                                             \n",
      "                                                                 \n",
      " flatten_1 (Flatten)         (None, 1024)              0         \n",
      "                                                                 \n",
      " dense_2 (Dense)             (None, 1000)              1025000   \n",
      "                                                                 \n",
      " dense_3 (Dense)             (None, 10)                10010     \n",
      "                                                                 \n",
      "=================================================================\n",
      "Total params: 1,087,106\n",
      "Trainable params: 1,087,106\n",
      "Non-trainable params: 0\n",
      "_________________________________________________________________\n"
     ]
    }
   ],
   "source": [
    "model.summary()"
   ]
  },
  {
   "cell_type": "code",
   "execution_count": 14,
   "metadata": {},
   "outputs": [
    {
     "name": "stdout",
     "output_type": "stream",
     "text": [
      "{'name': 'conv2d', 'trainable': True, 'dtype': 'float32', 'filters': 32, 'kernel_size': (5, 5), 'strides': (1, 1), 'padding': 'valid', 'data_format': 'channels_last', 'dilation_rate': (1, 1), 'groups': 1, 'activation': 'relu', 'use_bias': True, 'kernel_initializer': {'class_name': 'GlorotUniform', 'config': {'seed': None}}, 'bias_initializer': {'class_name': 'Zeros', 'config': {}}, 'kernel_regularizer': None, 'bias_regularizer': None, 'activity_regularizer': None, 'kernel_constraint': None, 'bias_constraint': None} \n",
      "\n",
      "{'name': 'max_pooling2d', 'trainable': True, 'dtype': 'float32', 'pool_size': (2, 2), 'padding': 'valid', 'strides': (2, 2), 'data_format': 'channels_last'} \n",
      "\n",
      "{'name': 'conv2d_1', 'trainable': True, 'dtype': 'float32', 'filters': 64, 'kernel_size': (5, 5), 'strides': (1, 1), 'padding': 'valid', 'data_format': 'channels_last', 'dilation_rate': (1, 1), 'groups': 1, 'activation': 'relu', 'use_bias': True, 'kernel_initializer': {'class_name': 'GlorotUniform', 'config': {'seed': None}}, 'bias_initializer': {'class_name': 'Zeros', 'config': {}}, 'kernel_regularizer': None, 'bias_regularizer': None, 'activity_regularizer': None, 'kernel_constraint': None, 'bias_constraint': None} \n",
      "\n",
      "{'name': 'max_pooling2d_1', 'trainable': True, 'dtype': 'float32', 'pool_size': (2, 2), 'padding': 'valid', 'strides': (2, 2), 'data_format': 'channels_last'} \n",
      "\n",
      "{'name': 'flatten_1', 'trainable': True, 'dtype': 'float32', 'data_format': 'channels_last'} \n",
      "\n",
      "{'name': 'dense_2', 'trainable': True, 'dtype': 'float32', 'units': 1000, 'activation': 'relu', 'use_bias': True, 'kernel_initializer': {'class_name': 'GlorotUniform', 'config': {'seed': None}}, 'bias_initializer': {'class_name': 'Zeros', 'config': {}}, 'kernel_regularizer': None, 'bias_regularizer': None, 'activity_regularizer': None, 'kernel_constraint': None, 'bias_constraint': None} \n",
      "\n",
      "{'name': 'dense_3', 'trainable': True, 'dtype': 'float32', 'units': 10, 'activation': 'softmax', 'use_bias': True, 'kernel_initializer': {'class_name': 'GlorotUniform', 'config': {'seed': None}}, 'bias_initializer': {'class_name': 'Zeros', 'config': {}}, 'kernel_regularizer': None, 'bias_regularizer': None, 'activity_regularizer': None, 'kernel_constraint': None, 'bias_constraint': None} \n",
      "\n"
     ]
    }
   ],
   "source": [
    "for layer in model.layers: print(layer.get_config(), \"\\n\")"
   ]
  },
  {
   "cell_type": "code",
   "execution_count": 15,
   "metadata": {},
   "outputs": [],
   "source": [
    "# Compile model\n",
    "model.compile(loss=keras.losses.categorical_crossentropy, optimizer='Adam',\n",
    "              metrics=['accuracy'])"
   ]
  },
  {
   "cell_type": "markdown",
   "metadata": {},
   "source": [
    "__ii.__ How many parameters need to be learned?\n",
    "> 1,087,106 parameters.\n",
    "\n",
    "__iii.__ How would you modify this code so that the outputs of first max-pooling layer are 14 × 14, which is half the size of the input image?\n",
    "> I would change the kernel size of the first 2-dimensional convolution layer to a 1×1 kernel."
   ]
  },
  {
   "cell_type": "code",
   "execution_count": 16,
   "metadata": {},
   "outputs": [],
   "source": [
    "num_classes=10\n",
    "model = Sequential()\n",
    "model.add(Input(shape=(28,28,1)))\n",
    "model.add(Conv2D(32, kernel_size=(1, 1), activation='relu'))\n",
    "model.add(MaxPooling2D(pool_size=(2, 2)))\n",
    "model.add(Conv2D(64, (5, 5), activation='relu'))\n",
    "model.add(MaxPooling2D(pool_size=(2, 2)))\n",
    "model.add(Flatten())\n",
    "model.add(Dense(1000, activation='relu'))\n",
    "model.add(Dense(num_classes, activation='softmax'))"
   ]
  },
  {
   "cell_type": "code",
   "execution_count": 17,
   "metadata": {},
   "outputs": [
    {
     "name": "stdout",
     "output_type": "stream",
     "text": [
      "Model: \"sequential_2\"\n",
      "_________________________________________________________________\n",
      " Layer (type)                Output Shape              Param #   \n",
      "=================================================================\n",
      " conv2d_2 (Conv2D)           (None, 28, 28, 32)        64        \n",
      "                                                                 \n",
      " max_pooling2d_2 (MaxPooling  (None, 14, 14, 32)       0         \n",
      " 2D)                                                             \n",
      "                                                                 \n",
      " conv2d_3 (Conv2D)           (None, 10, 10, 64)        51264     \n",
      "                                                                 \n",
      " max_pooling2d_3 (MaxPooling  (None, 5, 5, 64)         0         \n",
      " 2D)                                                             \n",
      "                                                                 \n",
      " flatten_2 (Flatten)         (None, 1600)              0         \n",
      "                                                                 \n",
      " dense_4 (Dense)             (None, 1000)              1601000   \n",
      "                                                                 \n",
      " dense_5 (Dense)             (None, 10)                10010     \n",
      "                                                                 \n",
      "=================================================================\n",
      "Total params: 1,662,338\n",
      "Trainable params: 1,662,338\n",
      "Non-trainable params: 0\n",
      "_________________________________________________________________\n"
     ]
    }
   ],
   "source": [
    "model.summary()"
   ]
  },
  {
   "cell_type": "code",
   "execution_count": 18,
   "metadata": {},
   "outputs": [],
   "source": [
    "num_classes=10\n",
    "model = Sequential()\n",
    "model.add(Input(shape=(28,28,1)))\n",
    "model.add(Conv2D(32, kernel_size=(1, 1), activation='relu'))\n",
    "model.add(MaxPooling2D(pool_size=(2, 2)))\n",
    "model.add(Conv2D(64, (5, 5), activation='relu'))\n",
    "model.add(MaxPooling2D(pool_size=(2, 2)))\n",
    "model.add(Flatten())\n",
    "model.add(Dense(1000, activation='relu'))\n",
    "model.add(Dense(num_classes, activation='softmax'))"
   ]
  },
  {
   "cell_type": "code",
   "execution_count": 19,
   "metadata": {},
   "outputs": [],
   "source": [
    "# Compile model\n",
    "model.compile(loss=keras.losses.categorical_crossentropy, optimizer='Adam',\n",
    "              metrics=['accuracy'])"
   ]
  },
  {
   "cell_type": "markdown",
   "metadata": {},
   "source": [
    "## Question ##\n",
    "There is nothing that prevents us from using a cost function such as the least squares error with the softmax activation function. Why is the cross-entropy loss function preferred?\n",
    ">Cross entropy doesn’t slow down like least squares error does it also learns faster with larger errors."
   ]
  },
  {
   "cell_type": "code",
   "execution_count": 20,
   "metadata": {},
   "outputs": [
    {
     "name": "stdout",
     "output_type": "stream",
     "text": [
      "Epoch 1/20\n",
      "469/469 [==============================] - 67s 142ms/step - loss: 0.1815 - accuracy: 0.9451 - val_loss: 0.0744 - val_accuracy: 0.9772\n",
      "Epoch 2/20\n",
      "469/469 [==============================] - 66s 140ms/step - loss: 0.0671 - accuracy: 0.9789 - val_loss: 0.0677 - val_accuracy: 0.9787\n",
      "Epoch 3/20\n",
      "469/469 [==============================] - 68s 146ms/step - loss: 0.0494 - accuracy: 0.9840 - val_loss: 0.0623 - val_accuracy: 0.9803\n",
      "Epoch 4/20\n",
      "469/469 [==============================] - 64s 137ms/step - loss: 0.0376 - accuracy: 0.9878 - val_loss: 0.0571 - val_accuracy: 0.9823\n",
      "Epoch 5/20\n",
      "469/469 [==============================] - 58s 125ms/step - loss: 0.0288 - accuracy: 0.9906 - val_loss: 0.0515 - val_accuracy: 0.9850\n",
      "Epoch 6/20\n",
      "469/469 [==============================] - 59s 125ms/step - loss: 0.0240 - accuracy: 0.9919 - val_loss: 0.0639 - val_accuracy: 0.9804\n",
      "Epoch 7/20\n",
      "469/469 [==============================] - 60s 129ms/step - loss: 0.0205 - accuracy: 0.9927 - val_loss: 0.0531 - val_accuracy: 0.9848\n",
      "Epoch 8/20\n",
      "469/469 [==============================] - 58s 124ms/step - loss: 0.0166 - accuracy: 0.9944 - val_loss: 0.0611 - val_accuracy: 0.9827\n",
      "Epoch 9/20\n",
      "469/469 [==============================] - 59s 125ms/step - loss: 0.0132 - accuracy: 0.9954 - val_loss: 0.0496 - val_accuracy: 0.9857\n",
      "Epoch 10/20\n",
      "469/469 [==============================] - 59s 126ms/step - loss: 0.0111 - accuracy: 0.9963 - val_loss: 0.0650 - val_accuracy: 0.9846\n",
      "Epoch 11/20\n",
      "469/469 [==============================] - 58s 124ms/step - loss: 0.0104 - accuracy: 0.9962 - val_loss: 0.0658 - val_accuracy: 0.9850\n",
      "Epoch 12/20\n",
      "469/469 [==============================] - 57s 122ms/step - loss: 0.0101 - accuracy: 0.9967 - val_loss: 0.0765 - val_accuracy: 0.9825\n",
      "Epoch 13/20\n",
      "469/469 [==============================] - 58s 123ms/step - loss: 0.0074 - accuracy: 0.9977 - val_loss: 0.0763 - val_accuracy: 0.9834\n",
      "Epoch 14/20\n",
      "469/469 [==============================] - 58s 124ms/step - loss: 0.0077 - accuracy: 0.9972 - val_loss: 0.0749 - val_accuracy: 0.9829\n",
      "Epoch 15/20\n",
      "469/469 [==============================] - 59s 126ms/step - loss: 0.0063 - accuracy: 0.9979 - val_loss: 0.0734 - val_accuracy: 0.9851\n",
      "Epoch 16/20\n",
      "469/469 [==============================] - 58s 123ms/step - loss: 0.0060 - accuracy: 0.9980 - val_loss: 0.0605 - val_accuracy: 0.9870\n",
      "Epoch 17/20\n",
      "469/469 [==============================] - 57s 122ms/step - loss: 0.0059 - accuracy: 0.9982 - val_loss: 0.0686 - val_accuracy: 0.9840\n",
      "Epoch 18/20\n",
      "469/469 [==============================] - 60s 128ms/step - loss: 0.0041 - accuracy: 0.9985 - val_loss: 0.0764 - val_accuracy: 0.9835\n",
      "Epoch 19/20\n",
      "469/469 [==============================] - 59s 126ms/step - loss: 0.0048 - accuracy: 0.9983 - val_loss: 0.0747 - val_accuracy: 0.9867\n",
      "Epoch 20/20\n",
      "469/469 [==============================] - 60s 128ms/step - loss: 0.0043 - accuracy: 0.9986 - val_loss: 0.0719 - val_accuracy: 0.9844\n"
     ]
    }
   ],
   "source": [
    "hist = model.fit(x_train, y_train, batch_size=128, epochs=20,\n",
    "                     verbose=1, validation_data=(x_test,y_test), callbacks=None) "
   ]
  },
  {
   "cell_type": "markdown",
   "metadata": {},
   "source": [
    "## Assignment ##\n",
    "A simple classifier that may be used for handwritten character recognition is __logistic regression__. In order to see what improvements can be made using a neural network, the first thing we will do is see how well logistic regression works.\n",
    "\n",
    "\n",
    "__i.__ Design a logistic regression classifier using Keras, and train it on the MNIST traing set."
   ]
  },
  {
   "cell_type": "code",
   "execution_count": 21,
   "metadata": {},
   "outputs": [
    {
     "name": "stdout",
     "output_type": "stream",
     "text": [
      "(60000, 28, 28, 1)\n"
     ]
    }
   ],
   "source": [
    "#DON'T LOOK AT THIS ONE!\n",
    "\n",
    "# load the MNIST data set, which already splits into training and test sets.\n",
    "(x_train, y_train), (x_test, y_test) = mnist.load_data()\n",
    "#Reshape the data into a 4d tensor\n",
    "img_x, img_y = 28, 28\n",
    "\n",
    "x_train = x_train.reshape(x_train.shape[0], img_x, img_y, 1)\n",
    "x_test = x_test.reshape(x_test.shape[0], img_x, img_y, 1)\n",
    "\n",
    "print(x_train.shape)\n",
    "\n",
    "# convert the data to the right type\n",
    "x_train = x_train.astype('float32')\n",
    "x_test = x_test.astype('float32')\n",
    "x_train /= 255\n",
    "x_test /= 255\n",
    "\n",
    "# one-hot encode the target values\n",
    "num_classes=10\n",
    "y_train = np_utils.to_categorical(y_train, num_classes)\n",
    "y_test = np_utils.to_categorical(y_test, num_classes)\n",
    "\n",
    "model = Sequential()\n",
    "model.add(Flatten())\n",
    "model.add(Dense(10, input_shape=(img_x,img_y,1), activation='sigmoid'))\n",
    "\n",
    "\n"
   ]
  },
  {
   "cell_type": "code",
   "execution_count": 22,
   "metadata": {},
   "outputs": [],
   "source": [
    "model.compile(optimizer='sgd', loss='binary_crossentropy', metrics=['accuracy'])"
   ]
  },
  {
   "cell_type": "code",
   "execution_count": 23,
   "metadata": {},
   "outputs": [
    {
     "name": "stdout",
     "output_type": "stream",
     "text": [
      "Epoch 1/20\n",
      "469/469 [==============================] - 2s 3ms/step - loss: 0.3876 - accuracy: 0.2182 - val_loss: 0.3104 - val_accuracy: 0.4202\n",
      "Epoch 2/20\n",
      "469/469 [==============================] - 1s 2ms/step - loss: 0.2921 - accuracy: 0.5337 - val_loss: 0.2726 - val_accuracy: 0.6320\n",
      "Epoch 3/20\n",
      "469/469 [==============================] - 1s 2ms/step - loss: 0.2610 - accuracy: 0.6695 - val_loss: 0.2464 - val_accuracy: 0.7137\n",
      "Epoch 4/20\n",
      "469/469 [==============================] - 1s 2ms/step - loss: 0.2384 - accuracy: 0.7286 - val_loss: 0.2266 - val_accuracy: 0.7575\n",
      "Epoch 5/20\n",
      "469/469 [==============================] - 1s 2ms/step - loss: 0.2212 - accuracy: 0.7596 - val_loss: 0.2113 - val_accuracy: 0.7821\n",
      "Epoch 6/20\n",
      "469/469 [==============================] - 1s 3ms/step - loss: 0.2077 - accuracy: 0.7798 - val_loss: 0.1991 - val_accuracy: 0.7997\n",
      "Epoch 7/20\n",
      "469/469 [==============================] - 1s 2ms/step - loss: 0.1969 - accuracy: 0.7934 - val_loss: 0.1893 - val_accuracy: 0.8105\n",
      "Epoch 8/20\n",
      "469/469 [==============================] - 1s 2ms/step - loss: 0.1879 - accuracy: 0.8026 - val_loss: 0.1811 - val_accuracy: 0.8214\n",
      "Epoch 9/20\n",
      "469/469 [==============================] - 1s 2ms/step - loss: 0.1804 - accuracy: 0.8103 - val_loss: 0.1742 - val_accuracy: 0.8275\n",
      "Epoch 10/20\n",
      "469/469 [==============================] - 1s 2ms/step - loss: 0.1741 - accuracy: 0.8165 - val_loss: 0.1682 - val_accuracy: 0.8312\n",
      "Epoch 11/20\n",
      "469/469 [==============================] - 1s 2ms/step - loss: 0.1686 - accuracy: 0.8208 - val_loss: 0.1631 - val_accuracy: 0.8347\n",
      "Epoch 12/20\n",
      "469/469 [==============================] - 1s 2ms/step - loss: 0.1638 - accuracy: 0.8250 - val_loss: 0.1586 - val_accuracy: 0.8374\n",
      "Epoch 13/20\n",
      "469/469 [==============================] - 1s 2ms/step - loss: 0.1595 - accuracy: 0.8280 - val_loss: 0.1546 - val_accuracy: 0.8409\n",
      "Epoch 14/20\n",
      "469/469 [==============================] - 1s 2ms/step - loss: 0.1558 - accuracy: 0.8316 - val_loss: 0.1510 - val_accuracy: 0.8444\n",
      "Epoch 15/20\n",
      "469/469 [==============================] - 1s 2ms/step - loss: 0.1524 - accuracy: 0.8342 - val_loss: 0.1477 - val_accuracy: 0.8472\n",
      "Epoch 16/20\n",
      "469/469 [==============================] - 1s 2ms/step - loss: 0.1493 - accuracy: 0.8366 - val_loss: 0.1448 - val_accuracy: 0.8493\n",
      "Epoch 17/20\n",
      "469/469 [==============================] - 1s 2ms/step - loss: 0.1465 - accuracy: 0.8385 - val_loss: 0.1421 - val_accuracy: 0.8505\n",
      "Epoch 18/20\n",
      "469/469 [==============================] - 1s 2ms/step - loss: 0.1440 - accuracy: 0.8406 - val_loss: 0.1397 - val_accuracy: 0.8523\n",
      "Epoch 19/20\n",
      "469/469 [==============================] - 1s 2ms/step - loss: 0.1416 - accuracy: 0.8423 - val_loss: 0.1374 - val_accuracy: 0.8533\n",
      "Epoch 20/20\n",
      "469/469 [==============================] - 1s 2ms/step - loss: 0.1395 - accuracy: 0.8442 - val_loss: 0.1354 - val_accuracy: 0.8547\n"
     ]
    }
   ],
   "source": [
    "hist = model.fit(x_train, y_train, batch_size=128, epochs=20, verbose=1, validation_data=(x_test,y_test), callbacks=None)\n",
    "#history = model.fit(x_train, y_train, batch_size=128, epochs = 20, verbose=1, validation_data=(x_test, y_test)) \n",
    "score = model.evaluate(X_test, Y_test, verbose=0)\n",
    "\n",
    "\n",
    "print('Test loss:', score[0])\n",
    "print('Test accuracy:', score[1])\n",
    "\n",
    "model.predict(X_test[:10])\n",
    "plt.plot(hist.history['loss'])\n",
    "plt.plot(hist.history['val_loss'])\n",
    "plt.figure()\n",
    "plt.plot(hist.history['accuracy'])\n",
    "plt.plot(hist.history['val_accuracy'])\n"
   ]
  },
  {
   "cell_type": "code",
   "execution_count": 24,
   "metadata": {},
   "outputs": [
    {
     "name": "stdout",
     "output_type": "stream",
     "text": [
      "Model: \"sequential_4\"\n",
      "_________________________________________________________________\n",
      " Layer (type)                Output Shape              Param #   \n",
      "=================================================================\n",
      " flatten_4 (Flatten)         (None, 784)               0         \n",
      "                                                                 \n",
      " dense_8 (Dense)             (None, 10)                7850      \n",
      "                                                                 \n",
      "=================================================================\n",
      "Total params: 7,850\n",
      "Trainable params: 7,850\n",
      "Non-trainable params: 0\n",
      "_________________________________________________________________\n",
      "None\n"
     ]
    },
    {
     "data": {
      "text/plain": [
       "[<matplotlib.lines.Line2D at 0x1c50b94efd0>]"
      ]
     },
     "execution_count": 24,
     "metadata": {},
     "output_type": "execute_result"
    },
    {
     "data": {
      "image/png": "[encoded data removed]",
      "text/plain": [
       "<Figure size 432x288 with 1 Axes>"
      ]
     },
     "metadata": {
      "needs_background": "light"
     },
     "output_type": "display_data"
    }
   ],
   "source": [
    "print(model.summary())\n",
    "#performance on the test set\n",
    "#predict first 4 images in the test set\n",
    "model.predict(x_test[:10])\n",
    "\n",
    "score = model.evaluate(X_test, Y_test, verbose=0)\n",
    "\n",
    "\n",
    "print('Test loss:', score[0])\n",
    "print('Test accuracy:', score[1])\n",
    "\n",
    "model.predict(X_test[:10])\n",
    "plt.plot(hist.history['loss'])\n",
    "plt.plot(hist.history['val_loss'])\n",
    "plt.figure()\n",
    "plt.plot(hist.history['accuracy'])\n",
    "plt.plot(hist.history['val_accuracy'])"
   ]
  },
  {
   "cell_type": "code",
   "execution_count": 146,
   "metadata": {},
   "outputs": [
    {
     "name": "stdout",
     "output_type": "stream",
     "text": [
      "60000 train samples\n",
      "10000 test samples\n",
      "Model: \"sequential_55\"\n",
      "_________________________________________________________________\n",
      " Layer (type)                Output Shape              Param #   \n",
      "=================================================================\n",
      " dense_147 (Dense)           (None, 10)                7850      \n",
      "                                                                 \n",
      "=================================================================\n",
      "Total params: 7,850\n",
      "Trainable params: 7,850\n",
      "Non-trainable params: 0\n",
      "_________________________________________________________________\n",
      "Epoch 1/20\n",
      "469/469 [==============================] - 1s 3ms/step - loss: 1.2631 - accuracy: 0.7123 - val_loss: 0.8056 - val_accuracy: 0.8382\n",
      "Epoch 2/20\n",
      "469/469 [==============================] - 1s 3ms/step - loss: 0.7103 - accuracy: 0.8429 - val_loss: 0.6060 - val_accuracy: 0.8622\n",
      "Epoch 3/20\n",
      "469/469 [==============================] - 1s 3ms/step - loss: 0.5836 - accuracy: 0.8607 - val_loss: 0.5256 - val_accuracy: 0.8754\n",
      "Epoch 4/20\n",
      "469/469 [==============================] - 1s 2ms/step - loss: 0.5230 - accuracy: 0.8691 - val_loss: 0.4803 - val_accuracy: 0.8802\n",
      "Epoch 5/20\n",
      "469/469 [==============================] - 1s 2ms/step - loss: 0.4861 - accuracy: 0.8755 - val_loss: 0.4509 - val_accuracy: 0.8841\n",
      "Epoch 6/20\n",
      "469/469 [==============================] - 1s 2ms/step - loss: 0.4608 - accuracy: 0.8791 - val_loss: 0.4303 - val_accuracy: 0.8884\n",
      "Epoch 7/20\n",
      "469/469 [==============================] - 1s 2ms/step - loss: 0.4420 - accuracy: 0.8833 - val_loss: 0.4141 - val_accuracy: 0.8910\n",
      "Epoch 8/20\n",
      "469/469 [==============================] - 1s 2ms/step - loss: 0.4272 - accuracy: 0.8859 - val_loss: 0.4015 - val_accuracy: 0.8932\n",
      "Epoch 9/20\n",
      "469/469 [==============================] - 1s 3ms/step - loss: 0.4154 - accuracy: 0.8884 - val_loss: 0.3912 - val_accuracy: 0.8951\n",
      "Epoch 10/20\n",
      "469/469 [==============================] - 1s 3ms/step - loss: 0.4055 - accuracy: 0.8910 - val_loss: 0.3823 - val_accuracy: 0.8973\n",
      "Epoch 11/20\n",
      "469/469 [==============================] - 1s 2ms/step - loss: 0.3971 - accuracy: 0.8924 - val_loss: 0.3749 - val_accuracy: 0.8988\n",
      "Epoch 12/20\n",
      "469/469 [==============================] - 1s 2ms/step - loss: 0.3899 - accuracy: 0.8943 - val_loss: 0.3689 - val_accuracy: 0.8993\n",
      "Epoch 13/20\n",
      "469/469 [==============================] - 1s 2ms/step - loss: 0.3836 - accuracy: 0.8955 - val_loss: 0.3632 - val_accuracy: 0.9005\n",
      "Epoch 14/20\n",
      "469/469 [==============================] - 1s 2ms/step - loss: 0.3780 - accuracy: 0.8968 - val_loss: 0.3581 - val_accuracy: 0.9019\n",
      "Epoch 15/20\n",
      "469/469 [==============================] - 1s 2ms/step - loss: 0.3730 - accuracy: 0.8978 - val_loss: 0.3539 - val_accuracy: 0.9029\n",
      "Epoch 16/20\n",
      "469/469 [==============================] - 1s 2ms/step - loss: 0.3685 - accuracy: 0.8989 - val_loss: 0.3500 - val_accuracy: 0.9044\n",
      "Epoch 17/20\n",
      "469/469 [==============================] - 1s 2ms/step - loss: 0.3644 - accuracy: 0.9002 - val_loss: 0.3462 - val_accuracy: 0.9058\n",
      "Epoch 18/20\n",
      "469/469 [==============================] - 1s 2ms/step - loss: 0.3607 - accuracy: 0.9009 - val_loss: 0.3428 - val_accuracy: 0.9055\n",
      "Epoch 19/20\n",
      "469/469 [==============================] - 1s 2ms/step - loss: 0.3572 - accuracy: 0.9017 - val_loss: 0.3400 - val_accuracy: 0.9071\n",
      "Epoch 20/20\n",
      "469/469 [==============================] - 1s 2ms/step - loss: 0.3541 - accuracy: 0.9027 - val_loss: 0.3372 - val_accuracy: 0.9077\n"
     ]
    }
   ],
   "source": [
    "#LOGISTIC REGRESSOR\n",
    "\n",
    "batch_size = 128\n",
    "nb_classes = 10\n",
    "nb_epoch = 20\n",
    "input_dim = 784 #28*28\n",
    "\n",
    "# the data, shuffled and split between train and test sets\n",
    "(X_train, y_train), (X_test, y_test) = mnist.load_data()\n",
    "\n",
    "X_train = X_train.reshape(60000, input_dim)\n",
    "X_test = X_test.reshape(10000, input_dim)\n",
    "X_train = X_train.astype('float32')\n",
    "X_test = X_test.astype('float32')\n",
    "X_train /= 255\n",
    "X_test /= 255\n",
    "print(X_train.shape[0], 'train samples')\n",
    "print(X_test.shape[0], 'test samples')\n",
    "\n",
    "# convert class vectors to binary class matrices\n",
    "Y_train = np_utils.to_categorical(y_train, nb_classes)\n",
    "Y_test = np_utils.to_categorical(y_test, nb_classes)\n",
    "\n",
    "#model = build_logistic_model(input_dim, nb_classes)\n",
    "\n",
    "\n",
    "model = Sequential()\n",
    "model.add(Dense(10, input_dim = input_dim, activation='softmax'))\n",
    "model.summary()\n",
    "\n",
    "# compile the model\n",
    "model.compile(optimizer='sgd', loss='categorical_crossentropy', metrics=['accuracy'])\n",
    "history = model.fit(X_train, Y_train, batch_size=batch_size, epochs=nb_epoch, verbose=1, validation_data=(X_test, Y_test))\n",
    "\n",
    "\n"
   ]
  },
  {
   "cell_type": "markdown",
   "metadata": {},
   "source": [
    "__ii.__ Find the performance of the classifier on the test set.\n",
    "> As seen below, the Test loss is 33.6% and the Test accuracy is 90.7%."
   ]
  },
  {
   "cell_type": "code",
   "execution_count": 148,
   "metadata": {},
   "outputs": [
    {
     "name": "stdout",
     "output_type": "stream",
     "text": [
      "Test loss: 0.33722081780433655\n",
      "Test accuracy: 0.9077000021934509\n"
     ]
    },
    {
     "data": {
      "text/plain": [
       "[<matplotlib.lines.Line2D at 0x1c577813370>]"
      ]
     },
     "execution_count": 148,
     "metadata": {},
     "output_type": "execute_result"
    },
    {
     "data": {
      "image/png": "[encoded data removed]",
      "text/plain": [
       "<Figure size 432x288 with 1 Axes>"
      ]
     },
     "metadata": {
      "needs_background": "light"
     },
     "output_type": "display_data"
    },
    {
     "data": {
      "image/png": "[encoded data removed]",
      "text/plain": [
       "<Figure size 432x288 with 1 Axes>"
      ]
     },
     "metadata": {
      "needs_background": "light"
     },
     "output_type": "display_data"
    }
   ],
   "source": [
    "score = model.evaluate(X_test, Y_test, verbose=0)\n",
    "\n",
    "\n",
    "print('Test loss:', score[0])\n",
    "print('Test accuracy:', score[1])\n",
    "\n",
    "plt.plot(hist.history['loss'])\n",
    "plt.plot(hist.history['val_loss'])\n",
    "plt.figure()\n",
    "plt.plot(hist.history['accuracy'])\n",
    "plt.plot(hist.history['val_accuracy'])"
   ]
  },
  {
   "cell_type": "code",
   "execution_count": 27,
   "metadata": {},
   "outputs": [
    {
     "data": {
      "text/plain": [
       "5"
      ]
     },
     "execution_count": 27,
     "metadata": {},
     "output_type": "execute_result"
    }
   ],
   "source": [
    "Y_train[0]\n",
    "y_train[0]"
   ]
  },
  {
   "cell_type": "markdown",
   "metadata": {},
   "source": [
    "## Assignment ##\n",
    "__i.__ Build a __one-hidden-layer__ and a __two-hidden-layer__ MLP, and train it on the MNIST training set and evaluate its performance on the test set.\n",
    ">DONE\n",
    "\n",
    "__ii.__ Experiment with different numbers of neurons in the hidden layers, and see what kind of performance you are able to get.\n",
    ">DONE"
   ]
  },
  {
   "cell_type": "code",
   "execution_count": 130,
   "metadata": {},
   "outputs": [
    {
     "name": "stdout",
     "output_type": "stream",
     "text": [
      "Model: \"sequential_44\"\n",
      "_________________________________________________________________\n",
      " Layer (type)                Output Shape              Param #   \n",
      "=================================================================\n",
      " dense_107 (Dense)           (None, 512)               401920    \n",
      "                                                                 \n",
      " dense_108 (Dense)           (None, 10)                5130      \n",
      "                                                                 \n",
      " dense_109 (Dense)           (None, 10)                110       \n",
      "                                                                 \n",
      "=================================================================\n",
      "Total params: 407,160\n",
      "Trainable params: 407,160\n",
      "Non-trainable params: 0\n",
      "_________________________________________________________________\n"
     ]
    }
   ],
   "source": [
    "# ONE-HIDDEN-LAYER CLASSIFIER\n",
    "# load the MNIST data set, which already splits into training and test sets.\n",
    "from keras.utils import np_utils\n",
    "\n",
    "batch_size = 128\n",
    "nb_classes = 10\n",
    "nb_epoch = 20\n",
    "input_dim = 784 #28*28\n",
    "num_classes = 10\n",
    "\n",
    "# the data, shuffled and split between train and test sets\n",
    "(x_train, y_train), (x_test, y_test) = mnist.load_data()\n",
    "\n",
    "\n",
    "# Flatten the images\n",
    "x_train = x_train.reshape(x_train.shape[0], input_dim)\n",
    "x_test = x_test.reshape(x_test.shape[0], input_dim)\n",
    "\n",
    "y_train = np_utils.to_categorical(y_train, nb_classes)\n",
    "y_test = np_utils.to_categorical(y_test, nb_classes)\n",
    "\n",
    "\n",
    "#y_train = keras.utils.to_categorical(y_train, num_classes)\n",
    "#y_test = keras.utils.to_categorical(y_test, num_classes)\n",
    "\n",
    "model = Sequential()\n",
    "#INPUT LAYER\n",
    "# The input layer requires the special input_shape parameter which should match\n",
    "# the shape of our training data.\n",
    "model.add(Dense(512, activation='sigmoid', input_shape=(input_dim,)))\n",
    "#model.add(Dense(512, activation='relu',input_shape=(784,)))\n",
    "#model.add(Dropout(0.2))\n",
    "\n",
    "#model.add(Input(shape=(28,28,1)))\n",
    "\n",
    "\n",
    "#model.add(Conv2D(32, kernel_size=(5, 5), activation='relu'))\n",
    "\n",
    "#HIDDEN LAYER\n",
    "model.add(Dense(32, activation='relu'))\n",
    "\n",
    "#model.add(Dense(512, activation='relu'))\n",
    "#model.add(Dropout(0.2))\n",
    "#model.add(Dense(32, activation='sigmoid', input_shape=(img_x,img_y,1)))\n",
    "#model.add(Flatten())\n",
    "#model.add(Dense(1000, activation='relu'))\n",
    "\n",
    "#OUTPUT LAYER\n",
    "model.add(Dense(10, input_dim = input_dim, activation='softmax'))\n",
    "\n",
    "model.summary()\n",
    "\n",
    "# Compile model\n",
    "model.compile(loss=keras.losses.categorical_crossentropy, optimizer='Adam',\n",
    "              metrics=['accuracy'])"
   ]
  },
  {
   "cell_type": "code",
   "execution_count": 132,
   "metadata": {},
   "outputs": [
    {
     "name": "stdout",
     "output_type": "stream",
     "text": [
      "Epoch 1/20\n",
      "469/469 [==============================] - 4s 7ms/step - loss: 2.1178 - accuracy: 0.3523 - val_loss: 1.9798 - val_accuracy: 0.4621\n",
      "Epoch 2/20\n",
      "469/469 [==============================] - 3s 6ms/step - loss: 1.8930 - accuracy: 0.5082 - val_loss: 1.8049 - val_accuracy: 0.5033\n",
      "Epoch 3/20\n",
      "469/469 [==============================] - 3s 7ms/step - loss: 1.7325 - accuracy: 0.5038 - val_loss: 1.6588 - val_accuracy: 0.4960\n",
      "Epoch 4/20\n",
      "469/469 [==============================] - 3s 7ms/step - loss: 1.5967 - accuracy: 0.5023 - val_loss: 1.5353 - val_accuracy: 0.4956\n",
      "Epoch 5/20\n",
      "469/469 [==============================] - 3s 6ms/step - loss: 1.4823 - accuracy: 0.5049 - val_loss: 1.4331 - val_accuracy: 0.4985\n",
      "Epoch 6/20\n",
      "469/469 [==============================] - 3s 6ms/step - loss: 1.3884 - accuracy: 0.5070 - val_loss: 1.3508 - val_accuracy: 0.5032\n",
      "Epoch 7/20\n",
      "469/469 [==============================] - 3s 7ms/step - loss: 1.3108 - accuracy: 0.5100 - val_loss: 1.2821 - val_accuracy: 0.5013\n",
      "Epoch 8/20\n",
      "469/469 [==============================] - 3s 6ms/step - loss: 1.2473 - accuracy: 0.5127 - val_loss: 1.2274 - val_accuracy: 0.5043\n",
      "Epoch 9/20\n",
      "469/469 [==============================] - 3s 7ms/step - loss: 1.1943 - accuracy: 0.5168 - val_loss: 1.1808 - val_accuracy: 0.5066\n",
      "Epoch 10/20\n",
      "469/469 [==============================] - 3s 7ms/step - loss: 1.1503 - accuracy: 0.5203 - val_loss: 1.1428 - val_accuracy: 0.5084\n",
      "Epoch 11/20\n",
      "469/469 [==============================] - 3s 7ms/step - loss: 1.1139 - accuracy: 0.5218 - val_loss: 1.1107 - val_accuracy: 0.5152\n",
      "Epoch 12/20\n",
      "469/469 [==============================] - 3s 7ms/step - loss: 1.0816 - accuracy: 0.5264 - val_loss: 1.0841 - val_accuracy: 0.5176\n",
      "Epoch 13/20\n",
      "469/469 [==============================] - 3s 7ms/step - loss: 1.0551 - accuracy: 0.5284 - val_loss: 1.0599 - val_accuracy: 0.5196\n",
      "Epoch 14/20\n",
      "469/469 [==============================] - 3s 7ms/step - loss: 1.0314 - accuracy: 0.5309 - val_loss: 1.0413 - val_accuracy: 0.5217\n",
      "Epoch 15/20\n",
      "469/469 [==============================] - 4s 8ms/step - loss: 1.0097 - accuracy: 0.5330 - val_loss: 1.0227 - val_accuracy: 0.5222\n",
      "Epoch 16/20\n",
      "469/469 [==============================] - 3s 7ms/step - loss: 0.9924 - accuracy: 0.5359 - val_loss: 1.0081 - val_accuracy: 0.5262\n",
      "Epoch 17/20\n",
      "469/469 [==============================] - 3s 7ms/step - loss: 0.9766 - accuracy: 0.5372 - val_loss: 0.9961 - val_accuracy: 0.5236\n",
      "Epoch 18/20\n",
      "469/469 [==============================] - 4s 8ms/step - loss: 0.9618 - accuracy: 0.5398 - val_loss: 0.9854 - val_accuracy: 0.5288\n",
      "Epoch 19/20\n",
      "469/469 [==============================] - 3s 7ms/step - loss: 0.9486 - accuracy: 0.5417 - val_loss: 0.9729 - val_accuracy: 0.5281\n",
      "Epoch 20/20\n",
      "469/469 [==============================] - 3s 7ms/step - loss: 0.9368 - accuracy: 0.5428 - val_loss: 0.9659 - val_accuracy: 0.5296\n"
     ]
    }
   ],
   "source": [
    "hist = model.fit(x_train, y_train, batch_size=128, epochs=20, verbose=1, validation_data=(x_test,y_test), callbacks=None)\n",
    "#history = model.fit(x_train, y_train, batch_size=128, epochs = 20, verbose=1, validation_data=(x_test, y_test)) "
   ]
  },
  {
   "cell_type": "code",
   "execution_count": 134,
   "metadata": {},
   "outputs": [
    {
     "name": "stdout",
     "output_type": "stream",
     "text": [
      "Test loss: 0.9658647179603577\n",
      "Test accuracy: 0.5296000242233276\n"
     ]
    },
    {
     "data": {
      "text/plain": [
       "[<matplotlib.lines.Line2D at 0x1c503f5e0d0>]"
      ]
     },
     "execution_count": 134,
     "metadata": {},
     "output_type": "execute_result"
    },
    {
     "data": {
      "image/png": "[encoded data removed]",
      "text/plain": [
       "<Figure size 432x288 with 1 Axes>"
      ]
     },
     "metadata": {
      "needs_background": "light"
     },
     "output_type": "display_data"
    },
    {
     "data": {
      "image/png": "[encoded data removed]",
      "text/plain": [
       "<Figure size 432x288 with 1 Axes>"
      ]
     },
     "metadata": {
      "needs_background": "light"
     },
     "output_type": "display_data"
    }
   ],
   "source": [
    "score = model.evaluate(x_test, y_test, verbose=0)\n",
    "print('Test loss:', score[0])\n",
    "print('Test accuracy:', score[1])\n",
    "\n",
    "plt.plot(hist.history['loss'])\n",
    "plt.plot(hist.history['val_loss'])\n",
    "plt.figure()\n",
    "plt.plot(hist.history['accuracy'])\n",
    "plt.plot(hist.history['val_accuracy'])"
   ]
  },
  {
   "cell_type": "markdown",
   "metadata": {},
   "source": [
    "__iii.__ Compare this classifier to the one using logistic regression.\n",
    "> This classifier fares worse than the logistic regression classifier. For the One-hidden-layer classifier, Test loss = 96.59% and Test accuracy = 52.96%. Meanwhile, the logistic regressor had a Test loss = 33.72% and a Test accuracy = 90.77%.\n"
   ]
  },
  {
   "cell_type": "code",
   "execution_count": 144,
   "metadata": {},
   "outputs": [
    {
     "name": "stdout",
     "output_type": "stream",
     "text": [
      "Model: \"sequential_54\"\n",
      "_________________________________________________________________\n",
      " Layer (type)                Output Shape              Param #   \n",
      "=================================================================\n",
      " dense_144 (Dense)           (None, 512)               401920    \n",
      "                                                                 \n",
      " dropout_53 (Dropout)        (None, 512)               0         \n",
      "                                                                 \n",
      " dense_145 (Dense)           (None, 512)               262656    \n",
      "                                                                 \n",
      " dense_146 (Dense)           (None, 10)                5130      \n",
      "                                                                 \n",
      "=================================================================\n",
      "Total params: 669,706\n",
      "Trainable params: 669,706\n",
      "Non-trainable params: 0\n",
      "_________________________________________________________________\n",
      "None\n",
      "Epoch 1/20\n",
      "469/469 [==============================] - 7s 13ms/step - loss: 3.4694 - accuracy: 0.8716 - val_loss: 0.5113 - val_accuracy: 0.9292\n",
      "Epoch 2/20\n",
      "469/469 [==============================] - 7s 14ms/step - loss: 0.4913 - accuracy: 0.9254 - val_loss: 0.3614 - val_accuracy: 0.9388\n",
      "Epoch 3/20\n",
      "469/469 [==============================] - 7s 15ms/step - loss: 0.3535 - accuracy: 0.9391 - val_loss: 0.2937 - val_accuracy: 0.9488\n",
      "Epoch 4/20\n",
      "469/469 [==============================] - 7s 14ms/step - loss: 0.2888 - accuracy: 0.9466 - val_loss: 0.2761 - val_accuracy: 0.9503\n",
      "Epoch 5/20\n",
      "469/469 [==============================] - 7s 15ms/step - loss: 0.2513 - accuracy: 0.9512 - val_loss: 0.2312 - val_accuracy: 0.9598\n",
      "Epoch 6/20\n",
      "469/469 [==============================] - 6s 13ms/step - loss: 0.2022 - accuracy: 0.9586 - val_loss: 0.2376 - val_accuracy: 0.9574\n",
      "Epoch 7/20\n",
      "469/469 [==============================] - 7s 14ms/step - loss: 0.1589 - accuracy: 0.9636 - val_loss: 0.1944 - val_accuracy: 0.9546\n",
      "Epoch 8/20\n",
      "469/469 [==============================] - 6s 13ms/step - loss: 0.1236 - accuracy: 0.9683 - val_loss: 0.1580 - val_accuracy: 0.9666\n",
      "Epoch 9/20\n",
      "469/469 [==============================] - 7s 15ms/step - loss: 0.1265 - accuracy: 0.9678 - val_loss: 0.1398 - val_accuracy: 0.9707\n",
      "Epoch 10/20\n",
      "469/469 [==============================] - 6s 13ms/step - loss: 0.1234 - accuracy: 0.9695 - val_loss: 0.1520 - val_accuracy: 0.9678\n",
      "Epoch 11/20\n",
      "469/469 [==============================] - 7s 15ms/step - loss: 0.1136 - accuracy: 0.9701 - val_loss: 0.1445 - val_accuracy: 0.9672\n",
      "Epoch 12/20\n",
      "469/469 [==============================] - 8s 17ms/step - loss: 0.1021 - accuracy: 0.9732 - val_loss: 0.1283 - val_accuracy: 0.9685\n",
      "Epoch 13/20\n",
      "469/469 [==============================] - 6s 14ms/step - loss: 0.1008 - accuracy: 0.9732 - val_loss: 0.1389 - val_accuracy: 0.9683\n",
      "Epoch 14/20\n",
      "469/469 [==============================] - 6s 14ms/step - loss: 0.1070 - accuracy: 0.9716 - val_loss: 0.1349 - val_accuracy: 0.9688\n",
      "Epoch 15/20\n",
      "469/469 [==============================] - 6s 13ms/step - loss: 0.0970 - accuracy: 0.9738 - val_loss: 0.1566 - val_accuracy: 0.9660\n",
      "Epoch 16/20\n",
      "469/469 [==============================] - 6s 13ms/step - loss: 0.0914 - accuracy: 0.9755 - val_loss: 0.1210 - val_accuracy: 0.9713\n",
      "Epoch 17/20\n",
      "469/469 [==============================] - 6s 14ms/step - loss: 0.0960 - accuracy: 0.9748 - val_loss: 0.1279 - val_accuracy: 0.9697\n",
      "Epoch 18/20\n",
      "469/469 [==============================] - 6s 13ms/step - loss: 0.1014 - accuracy: 0.9747 - val_loss: 0.1333 - val_accuracy: 0.9699\n",
      "Epoch 19/20\n",
      "469/469 [==============================] - 6s 14ms/step - loss: 0.0888 - accuracy: 0.9762 - val_loss: 0.1239 - val_accuracy: 0.9723\n",
      "Epoch 20/20\n",
      "469/469 [==============================] - 6s 13ms/step - loss: 0.0832 - accuracy: 0.9788 - val_loss: 0.1095 - val_accuracy: 0.9755\n"
     ]
    }
   ],
   "source": [
    "#TWO-HIDDEN-LAYER NETWORK\n",
    "\n",
    "from keras.utils import np_utils\n",
    "\n",
    "batch_size = 128\n",
    "nb_classes = 10\n",
    "nb_epoch = 20\n",
    "input_dim = 784 #28*28\n",
    "num_classes = 10\n",
    "\n",
    "# the data, shuffled and split between train and test sets\n",
    "(x_train, y_train), (x_test, y_test) = mnist.load_data()\n",
    "\n",
    "# Flatten the images\n",
    "x_train = x_train.reshape(x_train.shape[0], input_dim)\n",
    "x_test = x_test.reshape(x_test.shape[0], input_dim)\n",
    "\n",
    "y_train = np_utils.to_categorical(y_train, nb_classes)\n",
    "y_test = np_utils.to_categorical(y_test, nb_classes)\n",
    "\n",
    "model = Sequential()\n",
    "\n",
    "model.add(Dense(512,activation='relu',input_shape=(784,)))\n",
    "model.add(Dropout(0.2))\n",
    "\n",
    "#model.add(Dense(units=32, activation='sigmoid', input_shape=(img_x,img_y,1)))\n",
    "model.add(Dense(512,activation='relu'))\n",
    "#model.add(Conv2D(32, kernel_size=(5, 5), activation='relu'))\n",
    "#model.add(Dense(512,activation='relu'))\n",
    "\n",
    "model.add(Dense(10,activation='softmax'))\n",
    "#model.add(Dense(units=num_classes, activation='softmax'))\n",
    "#model.add(Flatten())\n",
    "#model.add(Dense(1000, activation='relu'))\n",
    "#model.add(Dense(num_classes, activation='softmax'))\n",
    "\n",
    "print(model.summary())\n",
    "\n",
    "\n",
    "# Compile model\n",
    "model.compile(loss=keras.losses.categorical_crossentropy, optimizer='Adam',\n",
    "              metrics=['accuracy'])\n",
    "\n",
    "hist = model.fit(x_train, y_train, batch_size=128, epochs=20, verbose=1, validation_data=(x_test,y_test), callbacks=None)"
   ]
  },
  {
   "cell_type": "code",
   "execution_count": 145,
   "metadata": {},
   "outputs": [
    {
     "name": "stdout",
     "output_type": "stream",
     "text": [
      "Test loss: 0.10950376093387604\n",
      "Test accuracy: 0.9754999876022339\n"
     ]
    },
    {
     "data": {
      "text/plain": [
       "[<matplotlib.lines.Line2D at 0x1c50367cd00>]"
      ]
     },
     "execution_count": 145,
     "metadata": {},
     "output_type": "execute_result"
    },
    {
     "data": {
      "image/png": "[encoded data removed]",
      "text/plain": [
       "<Figure size 432x288 with 1 Axes>"
      ]
     },
     "metadata": {
      "needs_background": "light"
     },
     "output_type": "display_data"
    },
    {
     "data": {
      "image/png": "[encoded data removed]",
      "text/plain": [
       "<Figure size 432x288 with 1 Axes>"
      ]
     },
     "metadata": {
      "needs_background": "light"
     },
     "output_type": "display_data"
    }
   ],
   "source": [
    "score = model.evaluate(x_test, y_test, verbose=0)\n",
    "print('Test loss:', score[0])\n",
    "print('Test accuracy:', score[1])\n",
    "\n",
    "plt.plot(hist.history['loss'])\n",
    "plt.plot(hist.history['val_loss'])\n",
    "plt.figure()\n",
    "plt.plot(hist.history['accuracy'])\n",
    "plt.plot(hist.history['val_accuracy'])"
   ]
  },
  {
   "cell_type": "markdown",
   "metadata": {},
   "source": [
    "__iii.(CONTINUED)__ Compare this classifier to the one using logistic regression.\n",
    "> Unlike the previous one-hidden-layer classifier, the Two-Hidden-Layer Classifier, performs much better than the logistic regression classifier. For the Two-Hidden-Layer classifier, Test loss = 10.95% and Test accuracy: 97.55%. Meanwhile, the logistic regressor had a Test loss = 33.60% and a Test accuracy = 90.76%. So the loss is smaller and the accuracy is greater than it was with the logistic classifier.\n"
   ]
  },
  {
   "cell_type": "markdown",
   "metadata": {},
   "source": [
    "## Assignment ##\n",
    "Since there are ten classes to recognize in the handwritten digit classification problem,\n",
    "suppose that you design a symmetric MLP with 10 hidden layers, each with 10 neurons.\n",
    "You program this network as follows:\n",
    "\n",
    "    model = Sequential()\n",
    "    model.add(keras.Input(shape=(28,28,)))\n",
    "    model.add(Dense(10,activation='relu'))\n",
    "    model.add(Dense(10,activation='relu'))\n",
    "    model.add(Dense(10,activation='relu'))\n",
    "    model.add(Dense(10,activation='relu'))\n",
    "    model.add(Dense(10,activation='relu'))\n",
    "    model.add(Dense(10,activation='relu'))\n",
    "    model.add(Dense(10,activation='relu'))\n",
    "    model.add(Dense(10,activation='relu'))\n",
    "    model.add(Dense(10,activation='relu'))\n",
    "    model.add(Dense(10,activation='relu'))\n",
    "    \n",
    "However, when you compile this MLP you find that there is an error. Fix this error,\n",
    "and any others that you may find, so that it implements a 10 hidden layer MLP with 10\n",
    "neurons in each layer.\n",
    "\n",
    "__i.__ What is the accuracy of your classifier? Does it perform as well as you would expect?\n",
    "How many parameters does this network need to learn?\n",
    "\n",
    ">The accuracy of the classifier is 95.42%. Given that there are only 10 neurons in each layer, it actually performs better than I expected. However, this may be due to the number of layers. The network needs to learn 4,090 parameters. "
   ]
  },
  {
   "cell_type": "code",
   "execution_count": 32,
   "metadata": {},
   "outputs": [
    {
     "name": "stdout",
     "output_type": "stream",
     "text": [
      "(60000, 28, 28, 1)\n",
      "Model: \"sequential_8\"\n",
      "_________________________________________________________________\n",
      " Layer (type)                Output Shape              Param #   \n",
      "=================================================================\n",
      " dense_12 (Dense)            (None, 28, 10)            290       \n",
      "                                                                 \n",
      " dense_13 (Dense)            (None, 28, 10)            110       \n",
      "                                                                 \n",
      " dense_14 (Dense)            (None, 28, 10)            110       \n",
      "                                                                 \n",
      " dense_15 (Dense)            (None, 28, 10)            110       \n",
      "                                                                 \n",
      " dense_16 (Dense)            (None, 28, 10)            110       \n",
      "                                                                 \n",
      " dense_17 (Dense)            (None, 28, 10)            110       \n",
      "                                                                 \n",
      " dense_18 (Dense)            (None, 28, 10)            110       \n",
      "                                                                 \n",
      " dense_19 (Dense)            (None, 28, 10)            110       \n",
      "                                                                 \n",
      " dense_20 (Dense)            (None, 28, 10)            110       \n",
      "                                                                 \n",
      " dense_21 (Dense)            (None, 28, 10)            110       \n",
      "                                                                 \n",
      " flatten_7 (Flatten)         (None, 280)               0         \n",
      "                                                                 \n",
      " dense_22 (Dense)            (None, 10)                2810      \n",
      "                                                                 \n",
      "=================================================================\n",
      "Total params: 4,090\n",
      "Trainable params: 4,090\n",
      "Non-trainable params: 0\n",
      "_________________________________________________________________\n",
      "Epoch 1/20\n",
      "469/469 [==============================] - 5s 7ms/step - loss: 0.9769 - accuracy: 0.6738 - val_loss: 0.5810 - val_accuracy: 0.8160\n",
      "Epoch 2/20\n",
      "469/469 [==============================] - 3s 6ms/step - loss: 0.4476 - accuracy: 0.8636 - val_loss: 0.3340 - val_accuracy: 0.9031\n",
      "Epoch 3/20\n",
      "469/469 [==============================] - 3s 6ms/step - loss: 0.3205 - accuracy: 0.9056 - val_loss: 0.2757 - val_accuracy: 0.9178\n",
      "Epoch 4/20\n",
      "469/469 [==============================] - 3s 6ms/step - loss: 0.2707 - accuracy: 0.9188 - val_loss: 0.2351 - val_accuracy: 0.9255\n",
      "Epoch 5/20\n",
      "469/469 [==============================] - 3s 6ms/step - loss: 0.2428 - accuracy: 0.9281 - val_loss: 0.2155 - val_accuracy: 0.9293\n",
      "Epoch 6/20\n",
      "469/469 [==============================] - 3s 6ms/step - loss: 0.2288 - accuracy: 0.9305 - val_loss: 0.1956 - val_accuracy: 0.9395\n",
      "Epoch 7/20\n",
      "469/469 [==============================] - 3s 6ms/step - loss: 0.2141 - accuracy: 0.9358 - val_loss: 0.1969 - val_accuracy: 0.9348\n",
      "Epoch 8/20\n",
      "469/469 [==============================] - 3s 6ms/step - loss: 0.2028 - accuracy: 0.9382 - val_loss: 0.1821 - val_accuracy: 0.9468\n",
      "Epoch 9/20\n",
      "469/469 [==============================] - 3s 6ms/step - loss: 0.1961 - accuracy: 0.9400 - val_loss: 0.1833 - val_accuracy: 0.9432\n",
      "Epoch 10/20\n",
      "469/469 [==============================] - 3s 6ms/step - loss: 0.1889 - accuracy: 0.9421 - val_loss: 0.1817 - val_accuracy: 0.9419\n",
      "Epoch 11/20\n",
      "469/469 [==============================] - 3s 6ms/step - loss: 0.1823 - accuracy: 0.9437 - val_loss: 0.1716 - val_accuracy: 0.9470\n",
      "Epoch 12/20\n",
      "469/469 [==============================] - 3s 6ms/step - loss: 0.1764 - accuracy: 0.9458 - val_loss: 0.1645 - val_accuracy: 0.9482\n",
      "Epoch 13/20\n",
      "469/469 [==============================] - 3s 6ms/step - loss: 0.1722 - accuracy: 0.9470 - val_loss: 0.1687 - val_accuracy: 0.9471\n",
      "Epoch 14/20\n",
      "469/469 [==============================] - 3s 6ms/step - loss: 0.1667 - accuracy: 0.9488 - val_loss: 0.1679 - val_accuracy: 0.9468\n",
      "Epoch 15/20\n",
      "469/469 [==============================] - 3s 6ms/step - loss: 0.1640 - accuracy: 0.9497 - val_loss: 0.1579 - val_accuracy: 0.9511\n",
      "Epoch 16/20\n",
      "469/469 [==============================] - 3s 6ms/step - loss: 0.1609 - accuracy: 0.9512 - val_loss: 0.1628 - val_accuracy: 0.9489\n",
      "Epoch 17/20\n",
      "469/469 [==============================] - 3s 6ms/step - loss: 0.1574 - accuracy: 0.9523 - val_loss: 0.1494 - val_accuracy: 0.9559\n",
      "Epoch 18/20\n",
      "469/469 [==============================] - 3s 6ms/step - loss: 0.1530 - accuracy: 0.9537 - val_loss: 0.1494 - val_accuracy: 0.9563\n",
      "Epoch 19/20\n",
      "469/469 [==============================] - 3s 6ms/step - loss: 0.1521 - accuracy: 0.9539 - val_loss: 0.1395 - val_accuracy: 0.9582\n",
      "Epoch 20/20\n",
      "469/469 [==============================] - 3s 6ms/step - loss: 0.1473 - accuracy: 0.9549 - val_loss: 0.1511 - val_accuracy: 0.9542\n"
     ]
    }
   ],
   "source": [
    "# load the MNIST data set, which already splits into training and test sets.\n",
    "(x_train, y_train), (x_test, y_test) = mnist.load_data()\n",
    "#Reshape the data into a 4d tensor\n",
    "img_x, img_y = 28, 28\n",
    "\n",
    "image_size = img_x * img_y\n",
    "\n",
    "x_train = x_train.reshape(x_train.shape[0], img_x, img_y, 1)\n",
    "x_test = x_test.reshape(x_test.shape[0], img_x, img_y, 1)\n",
    "\n",
    "print(x_train.shape)\n",
    "\n",
    "# convert the data to the right type\n",
    "x_train = x_train.astype('float32')\n",
    "x_test = x_test.astype('float32')\n",
    "x_train /= 255\n",
    "x_test /= 255\n",
    "\n",
    "# one-hot encode the target values\n",
    "num_classes=10\n",
    "y_train = np_utils.to_categorical(y_train, num_classes)\n",
    "y_test = np_utils.to_categorical(y_test, num_classes)\n",
    "\n",
    "model = Sequential()\n",
    "model.add(keras.Input(shape=(28,28,)))\n",
    "model.add(Dense(10,activation='relu'))\n",
    "model.add(Dense(10,activation='relu'))\n",
    "model.add(Dense(10,activation='relu'))\n",
    "model.add(Dense(10,activation='relu'))\n",
    "model.add(Dense(10,activation='relu'))\n",
    "model.add(Dense(10,activation='relu'))\n",
    "model.add(Dense(10,activation='relu'))\n",
    "model.add(Dense(10,activation='relu'))\n",
    "model.add(Dense(10,activation='relu'))\n",
    "model.add(Dense(10,activation='relu'))\n",
    "\n",
    "model.add(Flatten())\n",
    "#model.add(Dense(1000, activation='relu'))\n",
    "model.add(Dense(num_classes, activation='softmax'))\n",
    "\n",
    "model.summary()\n",
    "\n",
    "\n",
    "# Compile model\n",
    "model.compile(loss=keras.losses.categorical_crossentropy, optimizer='Adam',\n",
    "              metrics=['accuracy'])\n",
    "\n",
    "hist = model.fit(x_train, y_train, batch_size=128, epochs=20, verbose=1, validation_data=(x_test,y_test), callbacks=None)"
   ]
  },
  {
   "cell_type": "code",
   "execution_count": 33,
   "metadata": {},
   "outputs": [
    {
     "name": "stdout",
     "output_type": "stream",
     "text": [
      "Test loss: 0.15113097429275513\n",
      "Test accuracy: 0.954200029373169\n"
     ]
    },
    {
     "data": {
      "text/plain": [
       "[<matplotlib.lines.Line2D at 0x1c504b3ab50>]"
      ]
     },
     "execution_count": 33,
     "metadata": {},
     "output_type": "execute_result"
    },
    {
     "data": {
      "image/png": "[encoded data removed]",
      "text/plain": [
       "<Figure size 432x288 with 1 Axes>"
      ]
     },
     "metadata": {
      "needs_background": "light"
     },
     "output_type": "display_data"
    }
   ],
   "source": [
    "score = model.evaluate(x_test, y_test, verbose=0)\n",
    "\n",
    "print('Test loss:', score[0])\n",
    "print('Test accuracy:', score[1])\n",
    "\n",
    "#print(model.predict(x_test[:10]))\n",
    "\n",
    "plt.plot(hist.history['accuracy'])\n",
    "plt.plot(hist.history['val_accuracy'])"
   ]
  },
  {
   "cell_type": "code",
   "execution_count": 34,
   "metadata": {},
   "outputs": [
    {
     "data": {
      "text/plain": [
       "[<matplotlib.lines.Line2D at 0x1c504b82b80>]"
      ]
     },
     "execution_count": 34,
     "metadata": {},
     "output_type": "execute_result"
    },
    {
     "data": {
      "image/png": "[encoded data removed]",
      "text/plain": [
       "<Figure size 432x288 with 1 Axes>"
      ]
     },
     "metadata": {
      "needs_background": "light"
     },
     "output_type": "display_data"
    }
   ],
   "source": [
    "plt.plot(hist.history['loss'])\n",
    "plt.plot(hist.history['val_loss'])"
   ]
  },
  {
   "cell_type": "markdown",
   "metadata": {},
   "source": [
    "__ii.__ Your network most likely does not perform as well as you would like, so increase\n",
    "the number of neurons in each layer from 10 to 32. If you get any errors when you\n",
    "compile this network, find the error and explain what is wrong. If this error has any\n",
    "effect on your design in part (i), go back and fix it, and train that network again."
   ]
  },
  {
   "cell_type": "code",
   "execution_count": 35,
   "metadata": {},
   "outputs": [
    {
     "name": "stdout",
     "output_type": "stream",
     "text": [
      "(60000, 28, 28, 1)\n",
      "Model: \"sequential_9\"\n",
      "_________________________________________________________________\n",
      " Layer (type)                Output Shape              Param #   \n",
      "=================================================================\n",
      " dense_23 (Dense)            (None, 28, 32)            928       \n",
      "                                                                 \n",
      " dense_24 (Dense)            (None, 28, 32)            1056      \n",
      "                                                                 \n",
      " dense_25 (Dense)            (None, 28, 32)            1056      \n",
      "                                                                 \n",
      " dense_26 (Dense)            (None, 28, 32)            1056      \n",
      "                                                                 \n",
      " dense_27 (Dense)            (None, 28, 32)            1056      \n",
      "                                                                 \n",
      " dense_28 (Dense)            (None, 28, 32)            1056      \n",
      "                                                                 \n",
      " dense_29 (Dense)            (None, 28, 32)            1056      \n",
      "                                                                 \n",
      " dense_30 (Dense)            (None, 28, 32)            1056      \n",
      "                                                                 \n",
      " dense_31 (Dense)            (None, 28, 32)            1056      \n",
      "                                                                 \n",
      " dense_32 (Dense)            (None, 28, 32)            1056      \n",
      "                                                                 \n",
      " flatten_8 (Flatten)         (None, 896)               0         \n",
      "                                                                 \n",
      " dense_33 (Dense)            (None, 10)                8970      \n",
      "                                                                 \n",
      "=================================================================\n",
      "Total params: 19,402\n",
      "Trainable params: 19,402\n",
      "Non-trainable params: 0\n",
      "_________________________________________________________________\n",
      "Epoch 1/20\n",
      "469/469 [==============================] - 8s 14ms/step - loss: 0.5984 - accuracy: 0.8087 - val_loss: 0.2268 - val_accuracy: 0.9349\n",
      "Epoch 2/20\n",
      "469/469 [==============================] - 6s 12ms/step - loss: 0.2143 - accuracy: 0.9364 - val_loss: 0.1957 - val_accuracy: 0.9408\n",
      "Epoch 3/20\n",
      "469/469 [==============================] - 5s 11ms/step - loss: 0.1835 - accuracy: 0.9436 - val_loss: 0.1711 - val_accuracy: 0.9483\n",
      "Epoch 4/20\n",
      "469/469 [==============================] - 5s 12ms/step - loss: 0.1649 - accuracy: 0.9504 - val_loss: 0.1519 - val_accuracy: 0.9547\n",
      "Epoch 5/20\n",
      "469/469 [==============================] - 5s 11ms/step - loss: 0.1557 - accuracy: 0.9531 - val_loss: 0.1502 - val_accuracy: 0.9546\n",
      "Epoch 6/20\n",
      "469/469 [==============================] - 5s 11ms/step - loss: 0.1471 - accuracy: 0.9554 - val_loss: 0.1495 - val_accuracy: 0.9572\n",
      "Epoch 7/20\n",
      "469/469 [==============================] - 6s 12ms/step - loss: 0.1404 - accuracy: 0.9574 - val_loss: 0.1469 - val_accuracy: 0.9580\n",
      "Epoch 8/20\n",
      "469/469 [==============================] - 5s 11ms/step - loss: 0.1351 - accuracy: 0.9592 - val_loss: 0.1420 - val_accuracy: 0.9595\n",
      "Epoch 9/20\n",
      "469/469 [==============================] - 5s 11ms/step - loss: 0.1290 - accuracy: 0.9614 - val_loss: 0.1456 - val_accuracy: 0.9577\n",
      "Epoch 10/20\n",
      "469/469 [==============================] - 6s 12ms/step - loss: 0.1264 - accuracy: 0.9619 - val_loss: 0.1437 - val_accuracy: 0.9596\n",
      "Epoch 11/20\n",
      "469/469 [==============================] - 5s 11ms/step - loss: 0.1208 - accuracy: 0.9635 - val_loss: 0.1311 - val_accuracy: 0.9618\n",
      "Epoch 12/20\n",
      "469/469 [==============================] - 5s 11ms/step - loss: 0.1173 - accuracy: 0.9648 - val_loss: 0.1305 - val_accuracy: 0.9626\n",
      "Epoch 13/20\n",
      "469/469 [==============================] - 6s 12ms/step - loss: 0.1109 - accuracy: 0.9667 - val_loss: 0.1282 - val_accuracy: 0.9634\n",
      "Epoch 14/20\n",
      "469/469 [==============================] - 5s 11ms/step - loss: 0.1088 - accuracy: 0.9674 - val_loss: 0.1326 - val_accuracy: 0.9633\n",
      "Epoch 15/20\n",
      "469/469 [==============================] - 5s 11ms/step - loss: 0.1052 - accuracy: 0.9682 - val_loss: 0.1235 - val_accuracy: 0.9663\n",
      "Epoch 16/20\n",
      "469/469 [==============================] - 5s 12ms/step - loss: 0.1016 - accuracy: 0.9693 - val_loss: 0.1270 - val_accuracy: 0.9649\n",
      "Epoch 17/20\n",
      "469/469 [==============================] - 5s 11ms/step - loss: 0.0990 - accuracy: 0.9699 - val_loss: 0.1402 - val_accuracy: 0.9602\n",
      "Epoch 18/20\n",
      "469/469 [==============================] - 5s 11ms/step - loss: 0.0948 - accuracy: 0.9710 - val_loss: 0.1217 - val_accuracy: 0.9687\n",
      "Epoch 19/20\n",
      "469/469 [==============================] - 6s 12ms/step - loss: 0.0944 - accuracy: 0.9709 - val_loss: 0.1268 - val_accuracy: 0.9652\n",
      "Epoch 20/20\n",
      "469/469 [==============================] - 5s 11ms/step - loss: 0.0929 - accuracy: 0.9718 - val_loss: 0.1198 - val_accuracy: 0.9651\n"
     ]
    }
   ],
   "source": [
    "# load the MNIST data set, which already splits into training and test sets.\n",
    "(x_train, y_train), (x_test, y_test) = mnist.load_data()\n",
    "#Reshape the data into a 4d tensor\n",
    "img_x, img_y = 28, 28\n",
    "\n",
    "image_size = img_x * img_y\n",
    "\n",
    "x_train = x_train.reshape(x_train.shape[0], img_x, img_y, 1)\n",
    "x_test = x_test.reshape(x_test.shape[0], img_x, img_y, 1)\n",
    "\n",
    "print(x_train.shape)\n",
    "\n",
    "# convert the data to the right type\n",
    "x_train = x_train.astype('float32')\n",
    "x_test = x_test.astype('float32')\n",
    "x_train /= 255\n",
    "x_test /= 255\n",
    "\n",
    "# one-hot encode the target values\n",
    "num_classes=10\n",
    "y_train = np_utils.to_categorical(y_train, num_classes)\n",
    "y_test = np_utils.to_categorical(y_test, num_classes)\n",
    "\n",
    "model = Sequential()\n",
    "model.add(keras.Input(shape=(28,28,)))\n",
    "model.add(Dense(32,activation='relu'))\n",
    "model.add(Dense(32,activation='relu'))\n",
    "model.add(Dense(32,activation='relu'))\n",
    "model.add(Dense(32,activation='relu'))\n",
    "model.add(Dense(32,activation='relu'))\n",
    "model.add(Dense(32,activation='relu'))\n",
    "model.add(Dense(32,activation='relu'))\n",
    "model.add(Dense(32,activation='relu'))\n",
    "model.add(Dense(32,activation='relu'))\n",
    "model.add(Dense(32,activation='relu'))\n",
    "\n",
    "model.add(Flatten())\n",
    "#model.add(Dense(1000, activation='relu'))\n",
    "model.add(Dense(num_classes, activation='softmax'))\n",
    "\n",
    "model.summary()\n",
    "\n",
    "\n",
    "# Compile model\n",
    "model.compile(loss=keras.losses.categorical_crossentropy, optimizer='Adam',\n",
    "              metrics=['accuracy'])\n",
    "\n",
    "hist = model.fit(x_train, y_train, batch_size=128, epochs=20, verbose=1, validation_data=(x_test,y_test), callbacks=None)"
   ]
  },
  {
   "cell_type": "markdown",
   "metadata": {},
   "source": [
    "__iii.__ How well does this network perform and how many parameters need to be learned?\n",
    "> There are 19,402 parameters to be learned and has a test accuracy of 96.5% and a loss of 11.9%."
   ]
  },
  {
   "cell_type": "code",
   "execution_count": 36,
   "metadata": {},
   "outputs": [
    {
     "name": "stdout",
     "output_type": "stream",
     "text": [
      "Test loss: 0.1197638064622879\n",
      "Test accuracy: 0.9650999903678894\n"
     ]
    },
    {
     "data": {
      "text/plain": [
       "[<matplotlib.lines.Line2D at 0x1c50b6481c0>]"
      ]
     },
     "execution_count": 36,
     "metadata": {},
     "output_type": "execute_result"
    },
    {
     "data": {
      "image/png": "[encoded data removed]",
      "text/plain": [
       "<Figure size 432x288 with 1 Axes>"
      ]
     },
     "metadata": {
      "needs_background": "light"
     },
     "output_type": "display_data"
    }
   ],
   "source": [
    "score = model.evaluate(x_test, y_test, verbose=0)\n",
    "\n",
    "print('Test loss:', score[0])\n",
    "print('Test accuracy:', score[1])\n",
    "\n",
    "#print(model.predict(x_test[:10]))\n",
    "\n",
    "plt.plot(hist.history['loss'])\n",
    "plt.plot(hist.history['val_loss'])\n",
    "plt.figure()\n",
    "plt.plot(hist.history['accuracy'])\n",
    "plt.plot(hist.history['val_accuracy'])\n",
    "\n"
   ]
  },
  {
   "cell_type": "markdown",
   "metadata": {},
   "source": [
    "## Assignment ##\n",
    "Instead of a multilayer perception, consider using a convolutional neural network for your digit recognition system.\n",
    "\n",
    "Using a number of different CNN structures, and experimenting with options such as dropout, normalization, and one or more dense layers, determine the most efficient structure for\n",
    "achieving a recognizer with recognition rates close to 99%. Keep in mind that you would like a structure as simple as possible (in terms of the number of layers and the number of parameters to learn) that achieves your design goals. The deeper the network, the longer it will take to perform a recognition task. The larger the number of parameters, the higher the chances of\n",
    "overfitting, the more difficult it may be to train, and the more computational requirements will be needed for classification."
   ]
  },
  {
   "cell_type": "code",
   "execution_count": 37,
   "metadata": {},
   "outputs": [
    {
     "name": "stdout",
     "output_type": "stream",
     "text": [
      "x_train shape: (60000, 28, 28, 1)\n",
      "60000 train samples\n",
      "10000 test samples\n",
      "Model: \"sequential_10\"\n",
      "_________________________________________________________________\n",
      " Layer (type)                Output Shape              Param #   \n",
      "=================================================================\n",
      " conv2d_8 (Conv2D)           (None, 26, 26, 32)        320       \n",
      "                                                                 \n",
      " max_pooling2d_7 (MaxPooling  (None, 13, 13, 32)       0         \n",
      " 2D)                                                             \n",
      "                                                                 \n",
      " conv2d_9 (Conv2D)           (None, 11, 11, 64)        18496     \n",
      "                                                                 \n",
      " max_pooling2d_8 (MaxPooling  (None, 5, 5, 64)         0         \n",
      " 2D)                                                             \n",
      "                                                                 \n",
      " flatten_9 (Flatten)         (None, 1600)              0         \n",
      "                                                                 \n",
      " dropout (Dropout)           (None, 1600)              0         \n",
      "                                                                 \n",
      " dense_34 (Dense)            (None, 10)                16010     \n",
      "                                                                 \n",
      "=================================================================\n",
      "Total params: 34,826\n",
      "Trainable params: 34,826\n",
      "Non-trainable params: 0\n",
      "_________________________________________________________________\n"
     ]
    }
   ],
   "source": [
    "\n",
    "# Model / data parameters\n",
    "num_classes = 10\n",
    "input_shape = (28, 28, 1)\n",
    "\n",
    "# the data, split between train and test sets\n",
    "(x_train, y_train), (x_test, y_test) = keras.datasets.mnist.load_data()\n",
    "\n",
    "# Scale images to the [0, 1] range\n",
    "x_train = x_train.astype(\"float32\") / 255\n",
    "x_test = x_test.astype(\"float32\") / 255\n",
    "# Make sure images have shape (28, 28, 1)\n",
    "x_train = np.expand_dims(x_train, -1)\n",
    "x_test = np.expand_dims(x_test, -1)\n",
    "print(\"x_train shape:\", x_train.shape)\n",
    "print(x_train.shape[0], \"train samples\")\n",
    "print(x_test.shape[0], \"test samples\")\n",
    "\n",
    "\n",
    "# convert class vectors to binary class matrices\n",
    "y_train = keras.utils.to_categorical(y_train, num_classes)\n",
    "y_test = keras.utils.to_categorical(y_test, num_classes)\n",
    "\n",
    "\n",
    "model = Sequential()\n",
    "model.add(Input(shape=input_shape))\n",
    "model.add(Conv2D(32, kernel_size=(3, 3), activation=\"relu\"))\n",
    "\n",
    "model.add(MaxPooling2D(pool_size=(2, 2)))\n",
    "\n",
    "model.add(Conv2D(64, kernel_size=(3, 3), activation=\"relu\"))\n",
    "model.add(MaxPooling2D(pool_size=(2, 2)))\n",
    "model.add(Flatten())\n",
    "model.add(Dropout(0.5))\n",
    "model.add(Dense(num_classes, activation=\"softmax\"))\n",
    "\n",
    "\n",
    "model.summary()"
   ]
  },
  {
   "cell_type": "code",
   "execution_count": 38,
   "metadata": {},
   "outputs": [
    {
     "name": "stdout",
     "output_type": "stream",
     "text": [
      "Epoch 1/15\n",
      "422/422 [==============================] - 32s 74ms/step - loss: 0.3758 - accuracy: 0.8859 - val_loss: 0.0786 - val_accuracy: 0.9778\n",
      "Epoch 2/15\n",
      "422/422 [==============================] - 37s 88ms/step - loss: 0.1134 - accuracy: 0.9653 - val_loss: 0.0578 - val_accuracy: 0.9842\n",
      "Epoch 3/15\n",
      "422/422 [==============================] - 38s 89ms/step - loss: 0.0853 - accuracy: 0.9733 - val_loss: 0.0502 - val_accuracy: 0.9867\n",
      "Epoch 4/15\n",
      "422/422 [==============================] - 36s 85ms/step - loss: 0.0712 - accuracy: 0.9784 - val_loss: 0.0402 - val_accuracy: 0.9895\n",
      "Epoch 5/15\n",
      "422/422 [==============================] - 32s 75ms/step - loss: 0.0648 - accuracy: 0.9801 - val_loss: 0.0408 - val_accuracy: 0.9893\n",
      "Epoch 6/15\n",
      "422/422 [==============================] - 32s 76ms/step - loss: 0.0569 - accuracy: 0.9823 - val_loss: 0.0388 - val_accuracy: 0.9892\n",
      "Epoch 7/15\n",
      "422/422 [==============================] - 32s 76ms/step - loss: 0.0542 - accuracy: 0.9832 - val_loss: 0.0359 - val_accuracy: 0.9905\n",
      "Epoch 8/15\n",
      "422/422 [==============================] - 32s 76ms/step - loss: 0.0488 - accuracy: 0.9847 - val_loss: 0.0319 - val_accuracy: 0.9920\n",
      "Epoch 9/15\n",
      "422/422 [==============================] - 32s 76ms/step - loss: 0.0453 - accuracy: 0.9855 - val_loss: 0.0305 - val_accuracy: 0.9915\n",
      "Epoch 10/15\n",
      "422/422 [==============================] - 32s 76ms/step - loss: 0.0436 - accuracy: 0.9861 - val_loss: 0.0313 - val_accuracy: 0.9917\n",
      "Epoch 11/15\n",
      "422/422 [==============================] - 32s 76ms/step - loss: 0.0409 - accuracy: 0.9869 - val_loss: 0.0316 - val_accuracy: 0.9910\n",
      "Epoch 12/15\n",
      "422/422 [==============================] - 33s 78ms/step - loss: 0.0392 - accuracy: 0.9874 - val_loss: 0.0298 - val_accuracy: 0.9915\n",
      "Epoch 13/15\n",
      "422/422 [==============================] - 32s 76ms/step - loss: 0.0378 - accuracy: 0.9880 - val_loss: 0.0300 - val_accuracy: 0.9910\n",
      "Epoch 14/15\n",
      "422/422 [==============================] - 32s 77ms/step - loss: 0.0343 - accuracy: 0.9888 - val_loss: 0.0292 - val_accuracy: 0.9912\n",
      "Epoch 15/15\n",
      "422/422 [==============================] - 32s 76ms/step - loss: 0.0341 - accuracy: 0.9891 - val_loss: 0.0281 - val_accuracy: 0.9925\n"
     ]
    },
    {
     "data": {
      "text/plain": [
       "<keras.callbacks.History at 0x1c5041c9040>"
      ]
     },
     "execution_count": 38,
     "metadata": {},
     "output_type": "execute_result"
    }
   ],
   "source": [
    "batch_size = 128\n",
    "epochs = 15\n",
    "\n",
    "# Compile model\n",
    "model.compile(loss=keras.losses.categorical_crossentropy, optimizer='Adam',\n",
    "              metrics=['accuracy'])\n",
    "hist = model.fit(x_train, y_train, batch_size=batch_size, epochs=epochs, validation_split=0.1)"
   ]
  },
  {
   "cell_type": "code",
   "execution_count": 39,
   "metadata": {},
   "outputs": [
    {
     "name": "stdout",
     "output_type": "stream",
     "text": [
      "Test loss: 0.02522376738488674\n",
      "Test accuracy: 0.9921000003814697\n"
     ]
    }
   ],
   "source": [
    "score = model.evaluate(x_test, y_test, verbose=0)\n",
    "print(\"Test loss:\", score[0])\n",
    "print(\"Test accuracy:\", score[1])"
   ]
  },
  {
   "cell_type": "markdown",
   "metadata": {},
   "source": [
    "## Questions ##\n",
    "(1) What is the effect of the batch size on training time and on the accuracy of the model?\n",
    "> A arger batch size leads to: slower training loss decrease, higher minimum validation loss, less time training time needed per epoch, and greater number of epochs needed to to converge to the minimum validation loss. It should be noted that a batch size that is too large will actually lead to poor generalization.\n",
    "\n",
    "(2) What is a dense layer? Are one or more dense layers necessary?\n",
    ">Dense layer is the regular deeply connected neural network layer and performs the operation: $ y = φ(w^T\\cdot x + b) $. One or more dense layers are necessary as your output layer and the final layers in a FCC before output should be a dense layer.\n",
    "\n",
    "(3) What is batch normalization and is it mportant? Does it have any effect in your training algorithm?\n",
    ">Batch normalization is a technique for training very deep neural networks that standardizes the inputs to a layer for each mini-batch. This stabilizes the learning process and dramatically reduces the number of training epochs required to train deep networks.\n",
    "\n",
    "(4) What is dropout, and is it necessary for your designs?\n",
    ">The Dropout layer randomly sets input units to 0 with a frequency of rate at each step during training time, which helps prevent overfitting. Also helps reduce the amount of time learning takes."
   ]
  },
  {
   "cell_type": "markdown",
   "metadata": {},
   "source": [
    "### Loading the Cifar-10 data set"
   ]
  },
  {
   "cell_type": "markdown",
   "metadata": {},
   "source": [
    "## Assignment ##\n",
    "For this part of the exercise, you are to go through the same design process as for the MNIST data set to design an image classifier that has the best performance you are able to produce, with the most efficient structure."
   ]
  },
  {
   "cell_type": "code",
   "execution_count": 54,
   "metadata": {},
   "outputs": [],
   "source": [
    "import ssl\n",
    "ssl._create_default_https_context = ssl._create_unverified_context\n",
    "#def unpickle(file):\n",
    "#    import cPickle\n",
    "#    with open(file, 'rb') as fo:\n",
    "#        dict = cPickle.load(fo)\n",
    "#    return dict\n",
    "\n",
    "#cifar10 = unpickle('cifar-10-python.tar.gz')\n",
    "\n",
    "from tensorflow.keras.datasets import cifar10\n",
    "# The data, split between train and test sets:\n",
    "(x_train, y_train), (x_test, y_test) = cifar10.load_data()\n",
    "\n",
    "#img_x, img_y = 28, 28\n",
    "#x_train = x_train.reshape(x_train.shape[0], img_x, img_y, 1)\n",
    "#x_test = x_test.reshape(x_test.shape[0], img_x, img_y, 1)"
   ]
  },
  {
   "cell_type": "code",
   "execution_count": 69,
   "metadata": {},
   "outputs": [
    {
     "name": "stdout",
     "output_type": "stream",
     "text": [
      "Model: \"sequential_19\"\n",
      "_________________________________________________________________\n",
      " Layer (type)                Output Shape              Param #   \n",
      "=================================================================\n",
      " conv2d_32 (Conv2D)          (None, 32, 32, 32)        896       \n",
      "                                                                 \n",
      " activation_24 (Activation)  (None, 32, 32, 32)        0         \n",
      "                                                                 \n",
      " conv2d_33 (Conv2D)          (None, 30, 30, 32)        9248      \n",
      "                                                                 \n",
      " activation_25 (Activation)  (None, 30, 30, 32)        0         \n",
      "                                                                 \n",
      " max_pooling2d_17 (MaxPoolin  (None, 15, 15, 32)       0         \n",
      " g2D)                                                            \n",
      "                                                                 \n",
      " dropout_13 (Dropout)        (None, 15, 15, 32)        0         \n",
      "                                                                 \n",
      " conv2d_34 (Conv2D)          (None, 15, 15, 64)        18496     \n",
      "                                                                 \n",
      " activation_26 (Activation)  (None, 15, 15, 64)        0         \n",
      "                                                                 \n",
      " conv2d_35 (Conv2D)          (None, 13, 13, 64)        36928     \n",
      "                                                                 \n",
      " activation_27 (Activation)  (None, 13, 13, 64)        0         \n",
      "                                                                 \n",
      " max_pooling2d_18 (MaxPoolin  (None, 6, 6, 64)         0         \n",
      " g2D)                                                            \n",
      "                                                                 \n",
      " dropout_14 (Dropout)        (None, 6, 6, 64)          0         \n",
      "                                                                 \n",
      " flatten_14 (Flatten)        (None, 2304)              0         \n",
      "                                                                 \n",
      " dense_43 (Dense)            (None, 512)               1180160   \n",
      "                                                                 \n",
      " activation_28 (Activation)  (None, 512)               0         \n",
      "                                                                 \n",
      " dropout_15 (Dropout)        (None, 512)               0         \n",
      "                                                                 \n",
      " dense_44 (Dense)            (None, 10)                5130      \n",
      "                                                                 \n",
      " activation_29 (Activation)  (None, 10)                0         \n",
      "                                                                 \n",
      "=================================================================\n",
      "Total params: 1,250,858\n",
      "Trainable params: 1,250,858\n",
      "Non-trainable params: 0\n",
      "_________________________________________________________________\n"
     ]
    }
   ],
   "source": [
    "\n",
    "batch_size = 32 \n",
    "# 32 examples in a mini-batch, smaller batch size means more updates in one epoch\n",
    "\n",
    "num_classes = 10 #\n",
    "epochs = 100 # repeat 100 times\n",
    "\n",
    "class_names=['airplane','automobile','bird','cat','deer','dog','frog','horse','ship','truck']\n",
    "\n",
    "\n",
    "# Print figure with 10 random images from each\n",
    "\n",
    "#fig = plt.figure(figsize=(8,3))\n",
    "#for i in range(num_classes):\n",
    "#    ax = fig.add_subplot(2, 5, 1 + i, xticks=[], yticks=[])\n",
    "#    idx = np.where(y_train[:]==i)[0]\n",
    "#    features_idx = x_train[idx,::]\n",
    "#    img_num = np.random.randint(features_idx.shape[0])\n",
    "#    im = np.transpose(features_idx[img_num,::],(1,2,0))\n",
    "#    ax.set_title(class_names[i])\n",
    "#    plt.imshow(im)\n",
    "#plt.show()\n",
    "\n",
    "\n",
    "\n",
    "# Convert and pre-processing\n",
    "\n",
    "x_train = x_train.astype('float32')\n",
    "x_test = x_test.astype('float32')\n",
    "x_train  /= 255\n",
    "x_test /= 255\n",
    "\n",
    "y_train = np_utils.to_categorical(y_train, num_classes)\n",
    "y_test = np_utils.to_categorical(y_test, num_classes)\n",
    "\n",
    "#Adapted from Keras Cheat Sheet\n",
    "\n",
    "model = Sequential()\n",
    "model.add(Conv2D(32, (3, 3), padding='same', input_shape=x_train.shape[1:]))\n",
    "model.add(Activation('relu'))\n",
    "model.add(Conv2D(32,(3, 3)))\n",
    "model.add(Activation('relu'))\n",
    "model.add(MaxPooling2D(pool_size=(2, 2)))\n",
    "model.add(Dropout(0.25))\n",
    "\n",
    "model.add(Conv2D(64, (3, 3), padding='same'))\n",
    "model.add(Activation('relu'))\n",
    "model.add(Conv2D(64, (3,3)))\n",
    "model.add(Activation('relu'))\n",
    "model.add(MaxPooling2D(pool_size=(2, 2)))\n",
    "model.add(Dropout(0.25))\n",
    "\n",
    "model.add(Flatten())\n",
    "model.add(Dense(512))\n",
    "model.add(Activation('relu'))\n",
    "model.add(Dropout(0.5))\n",
    "model.add(Dense(num_classes))\n",
    "model.add(Activation('softmax'))\n",
    "\n",
    "model.compile(loss='categorical_crossentropy', optimizer='Adam', metrics=['accuracy'])\n",
    "\n",
    "model.summary()"
   ]
  },
  {
   "cell_type": "code",
   "execution_count": 57,
   "metadata": {},
   "outputs": [
    {
     "name": "stdout",
     "output_type": "stream",
     "text": [
      "Epoch 1/15\n",
      "1563/1563 [==============================] - 172s 110ms/step - loss: 1.3574 - accuracy: 0.5102\n",
      "Epoch 2/15\n",
      "1563/1563 [==============================] - 185s 118ms/step - loss: 1.1013 - accuracy: 0.6101\n",
      "Epoch 3/15\n",
      "1563/1563 [==============================] - 171s 109ms/step - loss: 0.9688 - accuracy: 0.6561\n",
      "Epoch 4/15\n",
      "1563/1563 [==============================] - 172s 110ms/step - loss: 0.8850 - accuracy: 0.6877\n",
      "Epoch 5/15\n",
      "1563/1563 [==============================] - 173s 110ms/step - loss: 0.8273 - accuracy: 0.7126\n",
      "Epoch 6/15\n",
      "1563/1563 [==============================] - 170s 109ms/step - loss: 0.7900 - accuracy: 0.7249\n",
      "Epoch 7/15\n",
      "1563/1563 [==============================] - 173s 111ms/step - loss: 0.7497 - accuracy: 0.7362\n",
      "Epoch 8/15\n",
      "1563/1563 [==============================] - 174s 111ms/step - loss: 0.7227 - accuracy: 0.7438\n",
      "Epoch 9/15\n",
      "1563/1563 [==============================] - 174s 111ms/step - loss: 0.6900 - accuracy: 0.7591\n",
      "Epoch 10/15\n",
      "1563/1563 [==============================] - 174s 111ms/step - loss: 0.6733 - accuracy: 0.7627\n",
      "Epoch 11/15\n",
      "1563/1563 [==============================] - 173s 111ms/step - loss: 0.6454 - accuracy: 0.7732\n",
      "Epoch 12/15\n",
      "1563/1563 [==============================] - 171s 110ms/step - loss: 0.6322 - accuracy: 0.7804\n",
      "Epoch 13/15\n",
      "1563/1563 [==============================] - 173s 111ms/step - loss: 0.6211 - accuracy: 0.7823\n",
      "Epoch 14/15\n",
      "1563/1563 [==============================] - 173s 111ms/step - loss: 0.6036 - accuracy: 0.7882 - los\n",
      "Epoch 15/15\n",
      "1563/1563 [==============================] - 173s 110ms/step - loss: 0.5869 - accuracy: 0.7954\n"
     ]
    }
   ],
   "source": [
    "hist = model.fit(x_train,y_train,epochs=15)"
   ]
  },
  {
   "cell_type": "code",
   "execution_count": 58,
   "metadata": {},
   "outputs": [
    {
     "name": "stdout",
     "output_type": "stream",
     "text": [
      "Test loss: 0.7419756650924683\n",
      "Test accuracy: 0.7512999773025513\n"
     ]
    }
   ],
   "source": [
    "score = model.evaluate(x_test, y_test, verbose=0)\n",
    "print(\"Test loss:\", score[0])\n",
    "print(\"Test accuracy:\", score[1])"
   ]
  },
  {
   "cell_type": "code",
   "execution_count": 72,
   "metadata": {},
   "outputs": [
    {
     "name": "stdout",
     "output_type": "stream",
     "text": [
      "Model: \"sequential_22\"\n",
      "_________________________________________________________________\n",
      " Layer (type)                Output Shape              Param #   \n",
      "=================================================================\n",
      " conv2d_44 (Conv2D)          (None, 32, 32, 32)        896       \n",
      "                                                                 \n",
      " conv2d_45 (Conv2D)          (None, 32, 32, 32)        9248      \n",
      "                                                                 \n",
      " max_pooling2d_23 (MaxPoolin  (None, 16, 16, 32)       0         \n",
      " g2D)                                                            \n",
      "                                                                 \n",
      " conv2d_46 (Conv2D)          (None, 16, 16, 64)        18496     \n",
      "                                                                 \n",
      " conv2d_47 (Conv2D)          (None, 16, 16, 64)        36928     \n",
      "                                                                 \n",
      " max_pooling2d_24 (MaxPoolin  (None, 8, 8, 64)         0         \n",
      " g2D)                                                            \n",
      "                                                                 \n",
      " flatten_17 (Flatten)        (None, 4096)              0         \n",
      "                                                                 \n",
      " dropout_18 (Dropout)        (None, 4096)              0         \n",
      "                                                                 \n",
      " dense_49 (Dense)            (None, 128)               524416    \n",
      "                                                                 \n",
      " dense_50 (Dense)            (None, 10)                1290      \n",
      "                                                                 \n",
      "=================================================================\n",
      "Total params: 591,274\n",
      "Trainable params: 591,274\n",
      "Non-trainable params: 0\n",
      "_________________________________________________________________\n",
      "Epoch 1/15\n",
      "1563/1563 [==============================] - 225s 143ms/step - loss: 1.4831 - accuracy: 0.4565 - val_loss: 1.2399 - val_accuracy: 0.5456\n",
      "Epoch 2/15\n",
      "1563/1563 [==============================] - 213s 136ms/step - loss: 1.0654 - accuracy: 0.6208 - val_loss: 0.9337 - val_accuracy: 0.6668\n",
      "Epoch 3/15\n",
      "1563/1563 [==============================] - 248s 159ms/step - loss: 0.9134 - accuracy: 0.6756 - val_loss: 0.8101 - val_accuracy: 0.7145\n",
      "Epoch 4/15\n",
      "1563/1563 [==============================] - 229s 147ms/step - loss: 0.8284 - accuracy: 0.7099 - val_loss: 0.7759 - val_accuracy: 0.7307\n",
      "Epoch 5/15\n",
      "1563/1563 [==============================] - 228s 146ms/step - loss: 0.7576 - accuracy: 0.7305 - val_loss: 0.7441 - val_accuracy: 0.7372\n",
      "Epoch 6/15\n",
      "1563/1563 [==============================] - 227s 145ms/step - loss: 0.7150 - accuracy: 0.7477 - val_loss: 0.7023 - val_accuracy: 0.7621\n",
      "Epoch 7/15\n",
      "1563/1563 [==============================] - 216s 138ms/step - loss: 0.6652 - accuracy: 0.7669 - val_loss: 0.6699 - val_accuracy: 0.7685\n",
      "Epoch 8/15\n",
      "1563/1563 [==============================] - 220s 141ms/step - loss: 0.6286 - accuracy: 0.7780 - val_loss: 0.6932 - val_accuracy: 0.7589\n",
      "Epoch 9/15\n",
      "1563/1563 [==============================] - 217s 139ms/step - loss: 0.5994 - accuracy: 0.7872 - val_loss: 0.6666 - val_accuracy: 0.7683\n",
      "Epoch 10/15\n",
      "1563/1563 [==============================] - 212s 135ms/step - loss: 0.5742 - accuracy: 0.7978 - val_loss: 0.6629 - val_accuracy: 0.7752\n",
      "Epoch 11/15\n",
      "1563/1563 [==============================] - 221s 141ms/step - loss: 0.5468 - accuracy: 0.8067 - val_loss: 0.6535 - val_accuracy: 0.7763\n",
      "Epoch 12/15\n",
      "1563/1563 [==============================] - 215s 137ms/step - loss: 0.5299 - accuracy: 0.8143 - val_loss: 0.6396 - val_accuracy: 0.7793\n",
      "Epoch 13/15\n",
      "1563/1563 [==============================] - 218s 140ms/step - loss: 0.5089 - accuracy: 0.8190 - val_loss: 0.6420 - val_accuracy: 0.7810\n",
      "Epoch 14/15\n",
      "1563/1563 [==============================] - 210s 135ms/step - loss: 0.4975 - accuracy: 0.8242 - val_loss: 0.6450 - val_accuracy: 0.7865\n",
      "Epoch 15/15\n",
      "1563/1563 [==============================] - 211s 135ms/step - loss: 0.4770 - accuracy: 0.8301 - val_loss: 0.6571 - val_accuracy: 0.7817\n"
     ]
    }
   ],
   "source": [
    "from keras.layers import Activation,Conv2D,MaxPooling2D,Flatten\n",
    "batch_size = 32 \n",
    "# 32 examples in a mini-batch, smaller batch size means more updates in one epoch\n",
    "\n",
    "num_classes = 10 #\n",
    "epochs = 100 # repeat 100 times\n",
    "\n",
    "class_names=['airplane','automobile','bird','cat','deer','dog','frog','horse','ship','truck']\n",
    "#loading the dataset\n",
    "(x_train,y_train),(x_test,y_test)=cifar10.load_data()\n",
    "\n",
    "# Print figure with 10 random images from each\n",
    "\n",
    "#fig = plt.figure(figsize=(8,3))\n",
    "#for i in range(num_classes):\n",
    "#    ax = fig.add_subplot(2, 5, 1 + i, xticks=[], yticks=[])\n",
    "#    idx = np.where(y_train[:]==i)[0]\n",
    "#    features_idx = x_train[idx,::]\n",
    "#    img_num = np.random.randint(features_idx.shape[0])\n",
    "#    im = np.transpose(features_idx[img_num,::],(1,2,0))\n",
    "#    ax.set_title(class_names[i])\n",
    "#    plt.imshow(im)\n",
    "#plt.show()\n",
    "\n",
    "\n",
    "\n",
    "# Convert and pre-processing\n",
    "x_train = x_train.astype('float32')\n",
    "x_test = x_test.astype('float32')\n",
    "x_train  /= 255\n",
    "x_test /= 255\n",
    "x_train.shape\n",
    "x_test.shape\n",
    "\n",
    "#x_train = x_train.astype('float32')\n",
    "#x_test = x_test.astype('float32')\n",
    "\n",
    "\n",
    "#y_train = np_utils.to_categorical(y_train, num_classes)\n",
    "#y_test = np_utils.to_categorical(y_test, num_classes)\n",
    "\n",
    "#adapted from keras cheat sheet\n",
    "\n",
    "model = Sequential()\n",
    "model.add(Conv2D(filters=32, kernel_size=3, padding='same', activation='relu', input_shape=[32,32,3]))\n",
    "model.add(Conv2D(filters=32, kernel_size=3,padding='same', activation='relu'))\n",
    "model.add(MaxPooling2D(pool_size=2, strides=2, padding='valid'))\n",
    "model.add(Conv2D(filters=64,kernel_size=3,padding='same', activation='relu'))\n",
    "model.add(Conv2D(filters=64,kernel_size=3,padding='same', activation='relu'))\n",
    "model.add(MaxPooling2D(pool_size=2,strides=2,padding='valid'))\n",
    "model.add(Flatten())\n",
    "\n",
    "model.add(Dropout(0.6,noise_shape=None,seed=None))\n",
    "\n",
    "model.add(Dense(units=128,activation='relu'))\n",
    "model.add(Dense(units=10,activation='softmax'))\n",
    "\n",
    "model.summary()\n",
    "\n",
    "model.compile(loss=keras.losses.sparse_categorical_crossentropy, optimizer='Adam', metrics=['accuracy'])\n",
    "\n",
    "hist = model.fit(x_train, y_train, batch_size=batch_size, epochs=15, verbose=1, validation_data=(x_test,y_test), callbacks=None)"
   ]
  },
  {
   "cell_type": "code",
   "execution_count": 75,
   "metadata": {},
   "outputs": [
    {
     "name": "stdout",
     "output_type": "stream",
     "text": [
      "Test loss: 0.6570707559585571\n",
      "Test accuracy: 0.7817000150680542\n"
     ]
    },
    {
     "data": {
      "text/plain": [
       "[<matplotlib.lines.Line2D at 0x1c504ecd040>]"
      ]
     },
     "execution_count": 75,
     "metadata": {},
     "output_type": "execute_result"
    },
    {
     "data": {
      "image/png": "[encoded data removed]",
      "text/plain": [
       "<Figure size 432x288 with 1 Axes>"
      ]
     },
     "metadata": {
      "needs_background": "light"
     },
     "output_type": "display_data"
    },
    {
     "data": {
      "image/png": "[encoded data removed]",
      "text/plain": [
       "<Figure size 432x288 with 1 Axes>"
      ]
     },
     "metadata": {
      "needs_background": "light"
     },
     "output_type": "display_data"
    }
   ],
   "source": [
    "score = model.evaluate(x_test, y_test, verbose=0)\n",
    "print(\"Test loss:\", score[0])\n",
    "print(\"Test accuracy:\", score[1])\n",
    "\n",
    "\n",
    "plt.plot(hist.history['loss'])\n",
    "plt.plot(hist.history['val_loss'])\n",
    "plt.figure()\n",
    "plt.plot(hist.history['accuracy'])\n",
    "plt.plot(hist.history['val_accuracy'])\n"
   ]
  },
  {
   "cell_type": "code",
   "execution_count": 149,
   "metadata": {},
   "outputs": [
    {
     "name": "stdout",
     "output_type": "stream",
     "text": [
      "Model: \"sequential_56\"\n",
      "_________________________________________________________________\n",
      " Layer (type)                Output Shape              Param #   \n",
      "=================================================================\n",
      " conv2d_52 (Conv2D)          (None, 32, 32, 32)        896       \n",
      "                                                                 \n",
      " conv2d_53 (Conv2D)          (None, 32, 32, 32)        9248      \n",
      "                                                                 \n",
      " max_pooling2d_30 (MaxPoolin  (None, 16, 16, 32)       0         \n",
      " g2D)                                                            \n",
      "                                                                 \n",
      " batch_normalization_2 (Batc  (None, 16, 16, 32)       128       \n",
      " hNormalization)                                                 \n",
      "                                                                 \n",
      " conv2d_54 (Conv2D)          (None, 16, 16, 64)        18496     \n",
      "                                                                 \n",
      " conv2d_55 (Conv2D)          (None, 16, 16, 64)        36928     \n",
      "                                                                 \n",
      " max_pooling2d_31 (MaxPoolin  (None, 8, 8, 64)         0         \n",
      " g2D)                                                            \n",
      "                                                                 \n",
      " batch_normalization_3 (Batc  (None, 8, 8, 64)         256       \n",
      " hNormalization)                                                 \n",
      "                                                                 \n",
      " flatten_20 (Flatten)        (None, 4096)              0         \n",
      "                                                                 \n",
      " dropout_54 (Dropout)        (None, 4096)              0         \n",
      "                                                                 \n",
      " dense_148 (Dense)           (None, 128)               524416    \n",
      "                                                                 \n",
      " dense_149 (Dense)           (None, 10)                1290      \n",
      "                                                                 \n",
      "=================================================================\n",
      "Total params: 591,658\n",
      "Trainable params: 591,466\n",
      "Non-trainable params: 192\n",
      "_________________________________________________________________\n",
      "Epoch 1/15\n",
      "1563/1563 [==============================] - 230s 146ms/step - loss: 1.3997 - accuracy: 0.5018 - val_loss: 1.3322 - val_accuracy: 0.5440\n",
      "Epoch 2/15\n",
      "1563/1563 [==============================] - 224s 143ms/step - loss: 0.9577 - accuracy: 0.6625 - val_loss: 0.9891 - val_accuracy: 0.6575\n",
      "Epoch 3/15\n",
      "1563/1563 [==============================] - 225s 144ms/step - loss: 0.8108 - accuracy: 0.7151 - val_loss: 0.8230 - val_accuracy: 0.7124\n",
      "Epoch 4/15\n",
      "1563/1563 [==============================] - 225s 144ms/step - loss: 0.7145 - accuracy: 0.7487 - val_loss: 0.8130 - val_accuracy: 0.7126\n",
      "Epoch 5/15\n",
      "1563/1563 [==============================] - 220s 141ms/step - loss: 0.6455 - accuracy: 0.7721 - val_loss: 0.8618 - val_accuracy: 0.6996\n",
      "Epoch 6/15\n",
      "1563/1563 [==============================] - 222s 142ms/step - loss: 0.5889 - accuracy: 0.7923 - val_loss: 0.7096 - val_accuracy: 0.7534\n",
      "Epoch 7/15\n",
      "1563/1563 [==============================] - 221s 142ms/step - loss: 0.5365 - accuracy: 0.8108 - val_loss: 0.8071 - val_accuracy: 0.7332\n",
      "Epoch 8/15\n",
      "1563/1563 [==============================] - 216s 138ms/step - loss: 0.5035 - accuracy: 0.8216 - val_loss: 0.7063 - val_accuracy: 0.7613\n",
      "Epoch 9/15\n",
      "1563/1563 [==============================] - 214s 137ms/step - loss: 0.4603 - accuracy: 0.8384 - val_loss: 0.7071 - val_accuracy: 0.7583\n",
      "Epoch 10/15\n",
      "1563/1563 [==============================] - 213s 136ms/step - loss: 0.4273 - accuracy: 0.8480 - val_loss: 0.6744 - val_accuracy: 0.7805\n",
      "Epoch 11/15\n",
      "1563/1563 [==============================] - 212s 136ms/step - loss: 0.3995 - accuracy: 0.8573 - val_loss: 0.6745 - val_accuracy: 0.7778\n",
      "Epoch 12/15\n",
      "1563/1563 [==============================] - 207s 132ms/step - loss: 0.3747 - accuracy: 0.8666 - val_loss: 0.6575 - val_accuracy: 0.7892\n",
      "Epoch 13/15\n",
      "1563/1563 [==============================] - 212s 135ms/step - loss: 0.3551 - accuracy: 0.8741 - val_loss: 0.6563 - val_accuracy: 0.7935\n",
      "Epoch 14/15\n",
      "1563/1563 [==============================] - 214s 137ms/step - loss: 0.3354 - accuracy: 0.8816 - val_loss: 0.6670 - val_accuracy: 0.7918\n",
      "Epoch 15/15\n",
      "1563/1563 [==============================] - 215s 138ms/step - loss: 0.3225 - accuracy: 0.8853 - val_loss: 0.6549 - val_accuracy: 0.7940\n"
     ]
    }
   ],
   "source": [
    "from keras.layers import Activation,Conv2D,MaxPooling2D,Flatten, BatchNormalization\n",
    "batch_size = 32 \n",
    "# 32 examples in a mini-batch, smaller batch size means more updates in one epoch\n",
    "\n",
    "num_classes = 10 #\n",
    "epochs = 100 # repeat 100 times\n",
    "\n",
    "class_names=['airplane','automobile','bird','cat','deer','dog','frog','horse','ship','truck']\n",
    "#loading the dataset\n",
    "(x_train,y_train),(x_test,y_test)=cifar10.load_data()\n",
    "\n",
    "# Print figure with 10 random images from each\n",
    "\n",
    "#fig = plt.figure(figsize=(8,3))\n",
    "#for i in range(num_classes):\n",
    "#    ax = fig.add_subplot(2, 5, 1 + i, xticks=[], yticks=[])\n",
    "#    idx = np.where(y_train[:]==i)[0]\n",
    "#    features_idx = x_train[idx,::]\n",
    "#    img_num = np.random.randint(features_idx.shape[0])\n",
    "#    im = np.transpose(features_idx[img_num,::],(1,2,0))\n",
    "#    ax.set_title(class_names[i])\n",
    "#    plt.imshow(im)\n",
    "#plt.show()\n",
    "\n",
    "\n",
    "\n",
    "# Convert and pre-processing\n",
    "x_train = x_train.astype('float32')\n",
    "x_test = x_test.astype('float32')\n",
    "x_train  /= 255\n",
    "x_test /= 255\n",
    "x_train.shape\n",
    "x_test.shape\n",
    "\n",
    "#adapted from keras cheat sheet\n",
    "\n",
    "model = Sequential()\n",
    "model.add(Conv2D(filters=32, kernel_size=3, padding='same', activation='relu', input_shape=[32,32,3]))\n",
    "model.add(Conv2D(filters=32, kernel_size=3,padding='same', activation='relu'))\n",
    "model.add(MaxPooling2D(pool_size=2, strides=2, padding='valid'))\n",
    "\n",
    "model.add(BatchNormalization())\n",
    "model.add(Conv2D(filters=64,kernel_size=3,padding='same', activation='relu'))\n",
    "model.add(Conv2D(filters=64,kernel_size=3,padding='same', activation='relu'))\n",
    "model.add(MaxPooling2D(pool_size=2,strides=2,padding='valid'))\n",
    "model.add(BatchNormalization())\n",
    "\n",
    "model.add(Flatten())\n",
    "model.add(Dropout(0.5,noise_shape=None,seed=None))\n",
    "model.add(Dense(units=128,activation='relu'))\n",
    "model.add(Dense(units=10,activation='softmax'))\n",
    "\n",
    "# Train model\n",
    "\n",
    "model.summary()\n",
    "\n",
    "#hist = model.fit(x_train,y_train,epochs=15)\n",
    "model.compile(loss=keras.losses.sparse_categorical_crossentropy, optimizer='Adam', metrics=['accuracy'])\n",
    "\n",
    "hist = model.fit(x_train, y_train, batch_size=batch_size, epochs=15, verbose=1, validation_data=(x_test,y_test), callbacks=None)"
   ]
  },
  {
   "cell_type": "code",
   "execution_count": 151,
   "metadata": {},
   "outputs": [
    {
     "name": "stdout",
     "output_type": "stream",
     "text": [
      "Test loss: 0.6548572778701782\n",
      "Test accuracy: 0.7940000295639038\n"
     ]
    },
    {
     "data": {
      "text/plain": [
       "[<matplotlib.lines.Line2D at 0x1c500854d60>]"
      ]
     },
     "execution_count": 151,
     "metadata": {},
     "output_type": "execute_result"
    },
    {
     "data": {
      "image/png": "[encoded data removed]",
      "text/plain": [
       "<Figure size 432x288 with 1 Axes>"
      ]
     },
     "metadata": {
      "needs_background": "light"
     },
     "output_type": "display_data"
    },
    {
     "data": {
      "image/png": "[encoded data removed]",
      "text/plain": [
       "<Figure size 432x288 with 1 Axes>"
      ]
     },
     "metadata": {
      "needs_background": "light"
     },
     "output_type": "display_data"
    }
   ],
   "source": [
    "score = model.evaluate(x_test, y_test, verbose=0)\n",
    "print(\"Test loss:\", score[0])\n",
    "print(\"Test accuracy:\", score[1])\n",
    "\n",
    "\n",
    "plt.plot(hist.history['loss'])\n",
    "plt.plot(hist.history['val_loss'])\n",
    "plt.figure()\n",
    "plt.plot(hist.history['accuracy'])\n",
    "plt.plot(hist.history['val_accuracy'])\n"
   ]
  },
  {
   "cell_type": "markdown",
   "metadata": {},
   "source": [
    "Discuss your design and compare it to your previous digit recognition systems.\n",
    "> For my final cifar-10 CNN, I have designed a CNN that achieves a Test Loss of 65.49% and a Test accuracy of 79.40%. This is a marked improvement in comparison to my first cifar-10 CNN, which has a Test Loss of 74.19% and a Test accuracy of 75.13%. There are 10 hidden layers including dropout and normalization layers. As with all my previous classifiers, it is sequential and the number of neurons and parameters can be observed in the summary. This CNN is not dissimilar to my previous classifiers used on the MNIST classification, with the exception that I made more use of zero-padding and alterred the strides of some of the layers. This CNN does not achieve the same performance measures on the Cifar-10 data as the previous digit recognition systems clasifiers did on the MNIST dataset. However, although both datasets are composed of images, it is harder to classify the objects that could look a number of different ways than handwritten digits. The CNN takes just under an hour to train with 15 epochs."
   ]
  }
 ],
 "metadata": {
  "kernelspec": {
   "display_name": "Python 3",
   "language": "python",
   "name": "python3"
  },
  "language_info": {
   "codemirror_mode": {
    "name": "ipython",
    "version": 3
   },
   "file_extension": ".py",
   "mimetype": "text/x-python",
   "name": "python",
   "nbconvert_exporter": "python",
   "pygments_lexer": "ipython3",
   "version": "3.8.8"
  }
 },
 "nbformat": 4,
 "nbformat_minor": 4
}
