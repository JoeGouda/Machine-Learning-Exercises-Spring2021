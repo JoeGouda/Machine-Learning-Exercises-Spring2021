{
 "cells": [
  {
   "cell_type": "markdown",
   "id": "239ebc16",
   "metadata": {},
   "source": [
    "# Computer Exercise \\#2 #\n",
    "\n",
    "## Computer Exercise 2.1 ##\n",
    "\n",
    "### (a) The Pocket Algorithm ### \n"
   ]
  },
  {
   "cell_type": "code",
   "execution_count": 1,
   "id": "e0cd90fe",
   "metadata": {},
   "outputs": [],
   "source": [
    "import numpy as np\n",
    "import matplotlib.pyplot as plt\n",
    "from sklearn.model_selection import train_test_split"
   ]
  },
  {
   "cell_type": "markdown",
   "id": "e1088f82",
   "metadata": {},
   "source": [
    "__Below is the perceptron algorithm:__ "
   ]
  },
  {
   "cell_type": "code",
   "execution_count": 2,
   "id": "48a20367",
   "metadata": {},
   "outputs": [],
   "source": [
    "def perceptron_sgd(X, y):\n",
    "    w = np.zeros(len(X[0]))\n",
    "    eta = 1\n",
    "    epochs = 20\n",
    "    for t in range(epochs):\n",
    "        for i, x in enumerate(X):\n",
    "            if (np.dot(X[i], w)*y[i]) <= 0:\n",
    "                w = w + eta*X[i]*y[i]\n",
    "    return w"
   ]
  },
  {
   "cell_type": "markdown",
   "id": "7d771c76",
   "metadata": {},
   "source": [
    "### Assignment: ###\n",
    "Modify the code for the perceptron algorithm to implement the pocket algorithm. To do this,\n",
    "you will need to write an evaluation function to find the number of classification errors on\n",
    "a dataset.\n",
    "__See attempt below:__"
   ]
  },
  {
   "cell_type": "code",
   "execution_count": 3,
   "id": "d62979d7",
   "metadata": {},
   "outputs": [],
   "source": [
    "def pocket_sgd(X,y):\n",
    "    w = np.zeros(len(X[0]))\n",
    "    eta = 1\n",
    "    epochs = 20\n",
    "    for t in range(epochs):\n",
    "        for i, x in enumerate(X):\n",
    "            if (np.dot(X[i], w)*y[i]) <= 0:\n",
    "                w = w + eta*X[i]*y[i]\n",
    "    return w"
   ]
  },
  {
   "cell_type": "markdown",
   "id": "b3278d45",
   "metadata": {},
   "source": [
    "### (b) Random Data Over a Square ###\n",
    "#### Generating 2-d Random Data in a Unit Square: ####"
   ]
  },
  {
   "cell_type": "markdown",
   "id": "4cc16b24",
   "metadata": {},
   "source": [
    "Two-dimensional random points from $-1$ to $+1$ along both axes."
   ]
  },
  {
   "cell_type": "code",
   "execution_count": 4,
   "id": "89130b1b",
   "metadata": {},
   "outputs": [],
   "source": [
    "X=2*np.random.rand(75,2)-1"
   ]
  },
  {
   "cell_type": "markdown",
   "id": "a585b0cc",
   "metadata": {},
   "source": [
    "#### Labeling Points: ####\n",
    "Label points above and below a line.  Here the line is\n",
    "$$ y = 0.25 + 0.5x_1 - x_2 $$\n"
   ]
  },
  {
   "cell_type": "code",
   "execution_count": 5,
   "id": "224ad01e",
   "metadata": {},
   "outputs": [],
   "source": [
    "w = np.array([0.25, 0.5, -1])\n",
    "y=(w[0] + w[1]*X[:,0] + w[2]*X[:,1] > 0).astype(int)\n",
    "# Modified from given notebook to match equation\n",
    "#y=(0.5*X[:,0] + 0.25*X[:,1]>0).astype(int)"
   ]
  },
  {
   "cell_type": "markdown",
   "id": "f8d2ece6",
   "metadata": {},
   "source": [
    "### (c) Training and Test Sets ###"
   ]
  },
  {
   "cell_type": "code",
   "execution_count": 6,
   "id": "a6a8a515",
   "metadata": {},
   "outputs": [],
   "source": [
    "from sklearn.model_selection import train_test_split\n",
    "#X_test, y_train, X_test, y_test = train_test_split(X,y,test_size=0.25)"
   ]
  },
  {
   "cell_type": "markdown",
   "id": "b318e680",
   "metadata": {},
   "source": [
    "### Exercise ###\n",
    "__(i)__ From your dataset (X,y) of 75 labeled random samples over a square, create a training\n",
    "set of 50 samples and a test set of 25 samples,\n",
    "$$ [X_{train}, y_{train}], [X_{test}, y_{test}] $$"
   ]
  },
  {
   "cell_type": "code",
   "execution_count": 7,
   "id": "1b1e448f",
   "metadata": {},
   "outputs": [],
   "source": [
    "from sklearn.model_selection import train_test_split\n",
    "X_train, X_test, y_train, y_test = train_test_split(X,y,train_size=50,test_size=25)"
   ]
  },
  {
   "cell_type": "markdown",
   "id": "7a3ead6f",
   "metadata": {},
   "source": [
    "__(ii)__ Make a scatter plot of the training set, with samples of class 1 as green and those in class\n",
    "0 as blue, and draw the true discriminant function. Your plot should look something like\n",
    "that shown below."
   ]
  },
  {
   "cell_type": "code",
   "execution_count": 8,
   "id": "c99537f9",
   "metadata": {},
   "outputs": [
    {
     "data": {
      "text/plain": [
       "[<matplotlib.lines.Line2D at 0x27155108e20>]"
      ]
     },
     "execution_count": 8,
     "metadata": {},
     "output_type": "execute_result"
    },
    {
     "data": {
      "image/png": "[encoded data removed]",
      "text/plain": [
       "<Figure size 432x288 with 1 Axes>"
      ]
     },
     "metadata": {
      "needs_background": "light"
     },
     "output_type": "display_data"
    }
   ],
   "source": [
    "fig, ax = plt.subplots()\n",
    "colors = ('green', 'blue')\n",
    "for n_class in range(2):\n",
    "    ax.scatter(X_train[y_train == n_class][:, 0],\n",
    "               X_train[y_train == n_class][:, 1],\n",
    "               c=colors[n_class],\n",
    "               s=50,\n",
    "               label=str(n_class))\n",
    "xmin = -1\n",
    "xmax = 1\n",
    "x1 = np.arange(-1, 1, 0.01)\n",
    "#x2 = (0.5*x1 + 0.25)\n",
    "#x2 = (perceptron_sgd(X, y))\n",
    "plt.plot(x1, (-w[0]-w[1]*x1)/w[2])"
   ]
  },
  {
   "cell_type": "markdown",
   "id": "a78d4179",
   "metadata": {},
   "source": [
    "### (d) The Perceptron Learning Algorithm ###\n"
   ]
  },
  {
   "cell_type": "markdown",
   "id": "bf519ce6",
   "metadata": {},
   "source": [
    "### Experiment ###"
   ]
  },
  {
   "cell_type": "markdown",
   "id": "1b681155",
   "metadata": {},
   "source": [
    "__(i)__ Decide on the number of epochs or the stopping criterion to use, and run the perceptron\n",
    "algorithm on the training data (X_train,y_train). Note that once you have instantiated\n",
    "the Perceptron class, you will use the fit method. Does PLA converge? If so, how many\n",
    "iterations are necessary?\n"
   ]
  },
  {
   "cell_type": "code",
   "execution_count": 9,
   "id": "b5e0db47",
   "metadata": {},
   "outputs": [
    {
     "name": "stdout",
     "output_type": "stream",
     "text": [
      "[ 1.97588771 -3.72520943]\n"
     ]
    }
   ],
   "source": [
    "from sklearn.linear_model import Perceptron\n",
    "p = Perceptron(shuffle = True, random_state=43, max_iter=50000)\n",
    "p.fit(X_train,y_train)\n",
    "model = p.coef_.reshape(2,)\n",
    "b = p.intercept_\n",
    "print(model)"
   ]
  },
  {
   "cell_type": "code",
   "execution_count": 10,
   "id": "297f33de",
   "metadata": {
    "scrolled": true
   },
   "outputs": [
    {
     "data": {
      "image/png": "[encoded data removed]",
      "text/plain": [
       "<Figure size 432x288 with 1 Axes>"
      ]
     },
     "metadata": {
      "needs_background": "light"
     },
     "output_type": "display_data"
    }
   ],
   "source": [
    "fig, ax = plt.subplots()\n",
    "colors = ('green', 'blue')\n",
    "for n_class in range(2):\n",
    "    ax.scatter(X_train[y_train == n_class][:, 0], \n",
    "               X_train[y_train == n_class][:, 1], \n",
    "               c=colors[n_class], \n",
    "               s=25, \n",
    "               label=str(n_class))\n",
    "x1 = np.arange(-1, 1, 0.01)\n",
    "plt.plot(x1, (-w[0] - w[1]*x1)/w[2],'black')\n",
    "plt.plot(x1, (-b - model[0]*x1)/model[1],'red')\n",
    "ax.legend(['True','PLA'])\n",
    "plt.title('Random Samples with Disriminant Function')\n",
    "plt.savefig('Fig_2.pdf')"
   ]
  },
  {
   "cell_type": "markdown",
   "id": "9544adb8",
   "metadata": {},
   "source": [
    ">The PLA does converge. The number of iterations taken are seen in the output below."
   ]
  },
  {
   "cell_type": "code",
   "execution_count": 11,
   "id": "78d8b38b",
   "metadata": {},
   "outputs": [
    {
     "name": "stdout",
     "output_type": "stream",
     "text": [
      "Number of iterations is:\n",
      "13\n"
     ]
    }
   ],
   "source": [
    "n_iter = p.n_iter_\n",
    "print(\"Number of iterations is:\")\n",
    "print(n_iter)"
   ]
  },
  {
   "cell_type": "markdown",
   "id": "7afc52a7",
   "metadata": {},
   "source": [
    "__(ii)__ Return the weight vector w and the bias b, and plot the solution along with a scatter\n",
    "plot of the data. How close is the learned hypothesis to the true hypothesis?"
   ]
  },
  {
   "cell_type": "code",
   "execution_count": 12,
   "id": "0eae93a6",
   "metadata": {},
   "outputs": [
    {
     "name": "stdout",
     "output_type": "stream",
     "text": [
      "[[ 1.97588771 -3.72520943]]\n"
     ]
    }
   ],
   "source": [
    "weight = p.coef_\n",
    "print(weight)"
   ]
  },
  {
   "cell_type": "code",
   "execution_count": 13,
   "id": "f0df112e",
   "metadata": {},
   "outputs": [
    {
     "name": "stdout",
     "output_type": "stream",
     "text": [
      "[1.]\n"
     ]
    }
   ],
   "source": [
    "print(b)"
   ]
  },
  {
   "cell_type": "code",
   "execution_count": 14,
   "id": "cc752d61",
   "metadata": {},
   "outputs": [
    {
     "data": {
      "image/png": "[encoded data removed]",
      "text/plain": [
       "<Figure size 432x288 with 1 Axes>"
      ]
     },
     "metadata": {
      "needs_background": "light"
     },
     "output_type": "display_data"
    }
   ],
   "source": [
    "fig, ax = plt.subplots()\n",
    "colors = ('green', 'blue')\n",
    "for n_class in range(2):\n",
    "    ax.scatter(X_train[y_train == n_class][:, 0], \n",
    "               X_train[y_train == n_class][:, 1], \n",
    "               c=colors[n_class], \n",
    "               s=25, \n",
    "               label=str(n_class))\n",
    "x1 = np.arange(-1, 1, 0.01)\n",
    "plt.plot(x1, (-w[0] - w[1]*x1)/w[2],'black')\n",
    "plt.plot(x1, (-b - model[0]*x1)/model[1],'red')\n",
    "ax.legend(['True','PLA'])\n",
    "plt.title('Random Samples with Disriminant Function')\n",
    "plt.savefig('Fig_2.pdf')"
   ]
  },
  {
   "cell_type": "markdown",
   "id": "534ae1b2",
   "metadata": {},
   "source": [
    "__(iii)__ What is the error on the training and test sets? Note that the score method will be\n",
    "useful here."
   ]
  },
  {
   "cell_type": "code",
   "execution_count": 15,
   "id": "de7a5562",
   "metadata": {},
   "outputs": [
    {
     "name": "stdout",
     "output_type": "stream",
     "text": [
      "Training Error:\n",
      "0.0\n",
      "Test Error:\n",
      "0.0\n"
     ]
    }
   ],
   "source": [
    "accuracy_1 = p.score(X_train,y_train)\n",
    "accuracy_2 = p.score(X_test,y_test)\n",
    "\n",
    "train_error = 1-accuracy_1\n",
    "test_error = 1-accuracy_2\n",
    "\n",
    "print(\"Training Error:\")\n",
    "print(train_error)\n",
    "print(\"Test Error:\")\n",
    "print(test_error)"
   ]
  },
  {
   "cell_type": "markdown",
   "id": "593bf350",
   "metadata": {},
   "source": [
    "### (e) Nonseperable Datasets ###"
   ]
  },
  {
   "cell_type": "markdown",
   "id": "4d74b0a0",
   "metadata": {},
   "source": [
    "### Experiment ###\n",
    "__(i)__"
   ]
  },
  {
   "cell_type": "code",
   "execution_count": 16,
   "id": "d3760522",
   "metadata": {},
   "outputs": [],
   "source": [
    "X=2*np.random.rand(75,2)-1\n",
    "y = (X[:,1] > X[:,0]**3 - 0.25*X[:,0]).astype(int)"
   ]
  },
  {
   "cell_type": "markdown",
   "id": "f2fa141b",
   "metadata": {},
   "source": [
    "__(ii)__ Separate the data set into a training set and a test set, and run the perceptron learning\n",
    "algorithm on the training set."
   ]
  },
  {
   "cell_type": "code",
   "execution_count": 17,
   "id": "1f525eda",
   "metadata": {},
   "outputs": [
    {
     "name": "stdout",
     "output_type": "stream",
     "text": [
      "[-1.53930899  3.17148354]\n"
     ]
    }
   ],
   "source": [
    "X_train, X_test, y_train, y_test = train_test_split(X,y,test_size=25)\n",
    "\n",
    "from sklearn.linear_model import Perceptron\n",
    "p = Perceptron(shuffle = True, random_state=43, max_iter=50000)\n",
    "p.fit(X_train,y_train)\n",
    "model = p.coef_.reshape(2,)\n",
    "b = p.intercept_\n",
    "print(model)\n",
    "\n",
    "\n"
   ]
  },
  {
   "cell_type": "markdown",
   "id": "42e56d58",
   "metadata": {},
   "source": [
    "__(iii)__ What is the error on the training set? What is the error on the test set?"
   ]
  },
  {
   "cell_type": "code",
   "execution_count": 18,
   "id": "781195e6",
   "metadata": {},
   "outputs": [
    {
     "name": "stdout",
     "output_type": "stream",
     "text": [
      "Training Error:\n",
      "0.09999999999999998\n",
      "Test Error:\n",
      "0.040000000000000036\n"
     ]
    }
   ],
   "source": [
    "accuracy_1 = p.score(X_train,y_train)\n",
    "accuracy_2 = p.score(X_test,y_test)\n",
    "\n",
    "train_error = 1-accuracy_1\n",
    "test_error = 1-accuracy_2\n",
    "\n",
    "print(\"Training Error:\")\n",
    "print(train_error)\n",
    "print(\"Test Error:\")\n",
    "print(test_error)"
   ]
  },
  {
   "cell_type": "markdown",
   "id": "5a2abc51",
   "metadata": {},
   "source": [
    "__(iv)__ Make a scatter plot of the training set along with the discriminant function g(x) and the\n",
    "learned classifier $b+w^T x = 0$ . You may want to run PLA using different random number\n",
    "seeds to see what difference, if any, this makes on the design. Discuss your findings."
   ]
  },
  {
   "cell_type": "code",
   "execution_count": 19,
   "id": "2b1ae2e8",
   "metadata": {},
   "outputs": [
    {
     "data": {
      "text/plain": [
       "[<matplotlib.lines.Line2D at 0x27156496610>]"
      ]
     },
     "execution_count": 19,
     "metadata": {},
     "output_type": "execute_result"
    },
    {
     "data": {
      "image/png": "[encoded data removed]",
      "text/plain": [
       "<Figure size 432x288 with 1 Axes>"
      ]
     },
     "metadata": {
      "needs_background": "light"
     },
     "output_type": "display_data"
    }
   ],
   "source": [
    "fig, ax = plt.subplots()\n",
    "colors = ('green', 'blue')\n",
    "for n_class in range(2):\n",
    "    ax.scatter(X_train[y_train == n_class][:, 0], \n",
    "               X_train[y_train == n_class][:, 1], \n",
    "               c=colors[n_class], \n",
    "               s=25, \n",
    "               label=str(n_class))\n",
    "# Show the boundary between the regions:\n",
    "x1 = np.arange(-1, 1, 0.01)\n",
    "plt.plot(x1, x1**3 - 0.25*x1)"
   ]
  },
  {
   "cell_type": "markdown",
   "id": "635208bb",
   "metadata": {},
   "source": [
    "__random_state=26__"
   ]
  },
  {
   "cell_type": "code",
   "execution_count": 20,
   "id": "d2e3dbf3",
   "metadata": {},
   "outputs": [
    {
     "name": "stdout",
     "output_type": "stream",
     "text": [
      "[-0.9987849   3.25787926]\n",
      "Training Error:\n",
      "0.12\n",
      "Test Error:\n",
      "0.040000000000000036\n"
     ]
    },
    {
     "data": {
      "image/png": "[encoded data removed]",
      "text/plain": [
       "<Figure size 432x288 with 1 Axes>"
      ]
     },
     "metadata": {
      "needs_background": "light"
     },
     "output_type": "display_data"
    }
   ],
   "source": [
    "#X=2*np.random.rand(75,2)-1\n",
    "#y = (X[:,1] > X[:,0]**3 - 0.25*X[:,0]).astype(int)\n",
    "\n",
    "#X_train, X_test, y_train, y_test = train_test_split(X,y,test_size=25)\n",
    "\n",
    "from sklearn.linear_model import Perceptron\n",
    "\n",
    "p = Perceptron(shuffle = True, random_state=26, max_iter=50000)\n",
    "p.fit(X_train,y_train)\n",
    "model = p.coef_.reshape(2,)\n",
    "b = p.intercept_\n",
    "print(model)\n",
    "\n",
    "fig, ax = plt.subplots()\n",
    "colors = ('green', 'blue')\n",
    "for n_class in range(2):\n",
    "    ax.scatter(X_train[y_train == n_class][:, 0], \n",
    "               X_train[y_train == n_class][:, 1], \n",
    "               c=colors[n_class], \n",
    "               s=25, \n",
    "               label=str(n_class))\n",
    "# Show the boundary between the regions:\n",
    "#x1 = np.arange(-1, 1, 0.01)\n",
    "#plt.plot(x1, x1**3 - 0.25*x1)\n",
    "\n",
    "x1 = np.arange(-1, 1, 0.01)\n",
    "plt.plot(x1, x1**3 - 0.25*x1,'black')\n",
    "plt.plot(x1, (-b + model[1]*x1**3 - model[0]*x1),'red')\n",
    "ax.legend(['True','PLA'])\n",
    "plt.title('Random Samples with Disriminant Function')\n",
    "plt.savefig('Fig_2.pdf')\n",
    "\n",
    "accuracy_1 = p.score(X_train,y_train)\n",
    "accuracy_2 = p.score(X_test,y_test)\n",
    "\n",
    "train_error = 1-accuracy_1\n",
    "test_error = 1-accuracy_2\n",
    "\n",
    "print(\"Training Error:\")\n",
    "print(train_error)\n",
    "print(\"Test Error:\")\n",
    "print(test_error)"
   ]
  },
  {
   "cell_type": "markdown",
   "id": "0b8b5d52",
   "metadata": {},
   "source": [
    "__random_state=43__"
   ]
  },
  {
   "cell_type": "code",
   "execution_count": 21,
   "id": "9f375d06",
   "metadata": {},
   "outputs": [
    {
     "name": "stdout",
     "output_type": "stream",
     "text": [
      "[-1.53930899  3.17148354]\n",
      "Training Error:\n",
      "0.09999999999999998\n",
      "Test Error:\n",
      "0.040000000000000036\n"
     ]
    },
    {
     "data": {
      "image/png": "[encoded data removed]",
      "text/plain": [
       "<Figure size 432x288 with 1 Axes>"
      ]
     },
     "metadata": {
      "needs_background": "light"
     },
     "output_type": "display_data"
    }
   ],
   "source": [
    "#X=2*np.random.rand(75,2)-1\n",
    "#y = (X[:,1] > X[:,0]**3 - 0.25*X[:,0]).astype(int)\n",
    "\n",
    "#X_train, X_test, y_train, y_test = train_test_split(X,y,test_size=25)\n",
    "\n",
    "from sklearn.linear_model import Perceptron\n",
    "\n",
    "p = Perceptron(shuffle = True, random_state=43, max_iter=50000)\n",
    "p.fit(X_train,y_train)\n",
    "model = p.coef_.reshape(2,)\n",
    "b = p.intercept_\n",
    "print(model)\n",
    "\n",
    "fig, ax = plt.subplots()\n",
    "colors = ('green', 'blue')\n",
    "for n_class in range(2):\n",
    "    ax.scatter(X_train[y_train == n_class][:, 0], \n",
    "               X_train[y_train == n_class][:, 1], \n",
    "               c=colors[n_class], \n",
    "               s=25, \n",
    "               label=str(n_class))\n",
    "# Show the boundary between the regions:\n",
    "#x1 = np.arange(-1, 1, 0.01)\n",
    "#plt.plot(x1, x1**3 - 0.25*x1)\n",
    "\n",
    "x1 = np.arange(-1, 1, 0.01)\n",
    "plt.plot(x1, x1**3 - 0.25*x1,'black')\n",
    "plt.plot(x1, (-b + model[1]*x1**3 - model[0]*x1),'red')\n",
    "ax.legend(['True','PLA'])\n",
    "plt.title('Random Samples with Disriminant Function')\n",
    "plt.savefig('Fig_2.pdf')\n",
    "\n",
    "accuracy_1 = p.score(X_train,y_train)\n",
    "accuracy_2 = p.score(X_test,y_test)\n",
    "\n",
    "train_error = 1-accuracy_1\n",
    "test_error = 1-accuracy_2\n",
    "\n",
    "print(\"Training Error:\")\n",
    "print(train_error)\n",
    "print(\"Test Error:\")\n",
    "print(test_error)"
   ]
  },
  {
   "cell_type": "markdown",
   "id": "5af484fa",
   "metadata": {},
   "source": [
    "__random_state=70__"
   ]
  },
  {
   "cell_type": "code",
   "execution_count": 22,
   "id": "bb3eacf8",
   "metadata": {},
   "outputs": [
    {
     "name": "stdout",
     "output_type": "stream",
     "text": [
      "[-1.45729407  2.90617015]\n",
      "Training Error:\n",
      "0.09999999999999998\n",
      "Test Error:\n",
      "0.040000000000000036\n"
     ]
    },
    {
     "data": {
      "image/png": "[encoded data removed]",
      "text/plain": [
       "<Figure size 432x288 with 1 Axes>"
      ]
     },
     "metadata": {
      "needs_background": "light"
     },
     "output_type": "display_data"
    }
   ],
   "source": [
    "#X=2*np.random.rand(75,2)-1\n",
    "#y = (X[:,1] > X[:,0]**3 - 0.25*X[:,0]).astype(int)\n",
    "\n",
    "#X_train, X_test, y_train, y_test = train_test_split(X,y,test_size=25)\n",
    "\n",
    "from sklearn.linear_model import Perceptron\n",
    "\n",
    "p = Perceptron(shuffle = True, random_state=70, max_iter=50000)\n",
    "p.fit(X_train,y_train)\n",
    "model = p.coef_.reshape(2,)\n",
    "b = p.intercept_\n",
    "print(model)\n",
    "\n",
    "fig, ax = plt.subplots()\n",
    "colors = ('green', 'blue')\n",
    "for n_class in range(2):\n",
    "    ax.scatter(X_train[y_train == n_class][:, 0], \n",
    "               X_train[y_train == n_class][:, 1], \n",
    "               c=colors[n_class], \n",
    "               s=25, \n",
    "               label=str(n_class))\n",
    "# Show the boundary between the regions:\n",
    "#x1 = np.arange(-1, 1, 0.01)\n",
    "#plt.plot(x1, x1**3 - 0.25*x1)\n",
    "\n",
    "x1 = np.arange(-1, 1, 0.01)\n",
    "plt.plot(x1, x1**3 - 0.25*x1,'black')\n",
    "plt.plot(x1, (-b + model[1]*x1**3 - model[0]*x1),'red')\n",
    "ax.legend(['True','PLA'])\n",
    "plt.title('Random Samples with Disriminant Function')\n",
    "plt.savefig('Fig_2.pdf')\n",
    "\n",
    "accuracy_1 = p.score(X_train,y_train)\n",
    "accuracy_2 = p.score(X_test,y_test)\n",
    "\n",
    "train_error = 1-accuracy_1\n",
    "test_error = 1-accuracy_2\n",
    "\n",
    "print(\"Training Error:\")\n",
    "print(train_error)\n",
    "print(\"Test Error:\")\n",
    "print(test_error)"
   ]
  },
  {
   "cell_type": "markdown",
   "id": "3c8f91a2",
   "metadata": {},
   "source": [
    ">__Findings:__  The discriminant function g(x) is well fitted to the data. That is to say that the function is neither over fitted or under fitted to the nonseperable dataset. The boundary between the regions is a third-order polynomial which as the dataset is not linearly seperable. As the random_state changes, the PLA output is also changes every single time. However the outputs are the same for those with the same initial conditions (such as random_state). "
   ]
  },
  {
   "cell_type": "markdown",
   "id": "16f08895",
   "metadata": {},
   "source": [
    "## Computer exercise 2.2 (The Moons Dataset and Nonlinear PLA) ## "
   ]
  },
  {
   "cell_type": "markdown",
   "id": "71bde781",
   "metadata": {},
   "source": [
    "### Experiment ###\n",
    "__(i)__ Create a moons dataset of 100 samples, with 75 in the training set and 25 in the test set using\n",
    "the make_moons class in scikit learn. Set noise=0.1."
   ]
  },
  {
   "cell_type": "code",
   "execution_count": 23,
   "id": "827729e2",
   "metadata": {},
   "outputs": [],
   "source": [
    "from sklearn.datasets import make_moons\n",
    "X,y=make_moons(n_samples=100, shuffle=True, noise=0.1, random_state=None)\n",
    "\n",
    "X_train, X_test, y_train, y_test = train_test_split(X,y,train_size= 75, test_size=25)\n",
    "\n"
   ]
  },
  {
   "cell_type": "markdown",
   "id": "d5c025a2",
   "metadata": {},
   "source": [
    "__(ii)__ Make a scatter plot of the samples in the training set with the two classes marked by different\n",
    "colors."
   ]
  },
  {
   "cell_type": "code",
   "execution_count": 24,
   "id": "55f1d6f9",
   "metadata": {},
   "outputs": [
    {
     "data": {
      "image/png": "[encoded data removed]",
      "text/plain": [
       "<Figure size 432x288 with 1 Axes>"
      ]
     },
     "metadata": {
      "needs_background": "light"
     },
     "output_type": "display_data"
    }
   ],
   "source": [
    "fig, ax = plt.subplots()\n",
    "for n_class in range(2):\n",
    "    ax.scatter(X_train[y_train == n_class][:, 0], \n",
    "               X_train[y_train == n_class][:, 1], \n",
    "               c=colors[n_class], \n",
    "               s=50, \n",
    "               label=str(n_class))\n",
    "#for n_class in range(2):\n",
    "#    plt.scatter(X[y==n_class][:, 0], \n",
    "#               X[y==n_class][:, 1], \n",
    "#               c=colors[n_class], \n",
    "#               s=50, \n",
    "#               label=str(n_class))"
   ]
  },
  {
   "cell_type": "markdown",
   "id": "fa70c3c0",
   "metadata": {},
   "source": [
    "__(iii)__ Run PLA on the training set and report $w$ and plot the classifier on the scatter plot"
   ]
  },
  {
   "cell_type": "code",
   "execution_count": 25,
   "id": "8a8660dc",
   "metadata": {},
   "outputs": [
    {
     "name": "stdout",
     "output_type": "stream",
     "text": [
      "w =\n",
      "[-0.02138481 -2.9707779 ]\n"
     ]
    }
   ],
   "source": [
    "from sklearn.linear_model import Perceptron\n",
    "p = Perceptron(shuffle = True, random_state=43, max_iter=50000)\n",
    "p.fit(X_train,y_train)\n",
    "model = p.coef_.reshape(2,)\n",
    "b = p.intercept_\n",
    "print(\"w =\")\n",
    "print(model)"
   ]
  },
  {
   "cell_type": "markdown",
   "id": "9960715c",
   "metadata": {},
   "source": [
    ">See $w$ in above output"
   ]
  },
  {
   "cell_type": "code",
   "execution_count": 26,
   "id": "8f56c777",
   "metadata": {},
   "outputs": [
    {
     "data": {
      "text/plain": [
       "[<matplotlib.lines.Line2D at 0x2715682ae80>]"
      ]
     },
     "execution_count": 26,
     "metadata": {},
     "output_type": "execute_result"
    },
    {
     "data": {
      "image/png": "[encoded data removed]",
      "text/plain": [
       "<Figure size 432x288 with 1 Axes>"
      ]
     },
     "metadata": {
      "needs_background": "light"
     },
     "output_type": "display_data"
    }
   ],
   "source": [
    "fig, ax = plt.subplots()\n",
    "for n_class in range(2):\n",
    "    ax.scatter(X_train[y_train == n_class][:, 0], \n",
    "               X_train[y_train == n_class][:, 1], \n",
    "               c=colors[n_class], \n",
    "               s=50, \n",
    "               label=str(n_class))\n",
    "\n",
    "x1 = np.arange(-1, 2, 0.01)\n",
    "plt.plot(x1, (-b - model[0]*x1)/model[1])"
   ]
  },
  {
   "cell_type": "markdown",
   "id": "39897718",
   "metadata": {},
   "source": [
    "__(iv)__ Find the error of your classifier on the training set and on the test set. Are there any conclusions\n",
    "that you can draw from what you find for the training and test errors?"
   ]
  },
  {
   "cell_type": "code",
   "execution_count": 27,
   "id": "c260c029",
   "metadata": {},
   "outputs": [
    {
     "name": "stdout",
     "output_type": "stream",
     "text": [
      "Training Error:\n",
      "0.18666666666666665\n",
      "Test Error:\n",
      "0.12\n"
     ]
    }
   ],
   "source": [
    "accuracy_1 = p.score(X_train,y_train)\n",
    "accuracy_2 = p.score(X_test,y_test)\n",
    "\n",
    "train_error = 1-accuracy_1\n",
    "test_error = 1-accuracy_2\n",
    "\n",
    "print(\"Training Error:\")\n",
    "print(train_error)\n",
    "print(\"Test Error:\")\n",
    "print(test_error)"
   ]
  },
  {
   "cell_type": "markdown",
   "id": "16b54be9",
   "metadata": {},
   "source": [
    "> __Conclusions:__ PLA returns accuracies under 90% for both training and test data. Also, as seen in the plot drawn in part (iii), the decision boundary misclassifies a large portion of the class 1 data points. Therefore, a linear PLA is not the optimal algorithm to be used for classification. It would be best to use a PLA of a higher order polynomial instead."
   ]
  },
  {
   "cell_type": "markdown",
   "id": "a49c49f2",
   "metadata": {},
   "source": [
    "__(v)__ \n",
    "> Unfortunately, I was unable to successfully write a python program to successfully implement the pocket algorithm as I ended up running out of time to complete it. "
   ]
  },
  {
   "cell_type": "markdown",
   "id": "c6ee5342",
   "metadata": {},
   "source": [
    "### Experiment ###\n",
    "__(i)__ For the moons training set, run PLA using a nonlinear feature space that has features\n",
    "consisting of vectors of the form\n",
    "$$ z = [x_1, x_2, x_1^2, x_1x_2, x_2^2]^T $$\n",
    "Report w, find the training and test error, and plot the decision surface on the scatter plot as\n",
    "a function of x1 and x2."
   ]
  },
  {
   "cell_type": "code",
   "execution_count": 28,
   "id": "f6cb68f6",
   "metadata": {},
   "outputs": [
    {
     "name": "stdout",
     "output_type": "stream",
     "text": [
      "(1, 5)\n"
     ]
    },
    {
     "data": {
      "text/plain": [
       "<matplotlib.contour.QuadContourSet at 0x27156876610>"
      ]
     },
     "execution_count": 28,
     "metadata": {},
     "output_type": "execute_result"
    },
    {
     "data": {
      "image/png": "[encoded data removed]",
      "text/plain": [
       "<Figure size 432x288 with 1 Axes>"
      ]
     },
     "metadata": {
      "needs_background": "light"
     },
     "output_type": "display_data"
    }
   ],
   "source": [
    "from sklearn.datasets import make_moons\n",
    "from sklearn.model_selection import train_test_split\n",
    "X,y=make_moons(n_samples=100, shuffle=True, noise=0.1, random_state=1)\n",
    "X_train, X_test, y_train, y_test = train_test_split(X,y,train_size= 75, test_size=25)\n",
    "\n",
    "#x1 = np.arange(-1, 2, 0.01)\n",
    "#plt.plot(x1, (-b - model[0]*x1)/model[1])\n",
    "\n",
    "\n",
    "#p = Perceptron()\n",
    "#X_aug = np.append(X_train, X[:,0]*X[:,1], axis = 1)\n",
    "from sklearn.linear_model import Perceptron\n",
    "p = Perceptron(shuffle = True, random_state=43, max_iter=50000)\n",
    "#X_train, X_test, y_train, y_test = train_test_split(X,y, test_size=0.25)\n",
    "\n",
    "#X=2*np.random.rand(75,2)-1\n",
    "X_train=np.concatenate((X_train, X_train[:,0:1]**2, X_train[:,0:1]*X_train[:,1:2], X_train[:,1:2]**2), axis=1)\n",
    "X_train.shape\n",
    "\n",
    "X_test=np.concatenate((X_test, X_test[:,0:1]**2, X_test[:,0:1]*X_test[:,1:2], X_test[:,1:2]**2), axis=1)\n",
    "X_test.shape\n",
    "\n",
    "p.fit(X_train,y_train)\n",
    "print(p.coef_.shape)\n",
    "model = p.coef_.reshape(5,)\n",
    "b = p.intercept_\n",
    "\n",
    "fig, ax = plt.subplots()\n",
    "for n_class in range(2):\n",
    "    ax.scatter(X_train[y_train == n_class][:, 0], \n",
    "               X_train[y_train == n_class][:, 1], \n",
    "               c=colors[n_class], \n",
    "               s=75, \n",
    "               label=str(n_class))\n",
    "    \n",
    "x1 = np.linspace(-1,2,50)\n",
    "x2 = np.linspace(-1,2,50)\n",
    "#print(x1)\n",
    "#print(x2)\n",
    "#print(x1**2)\n",
    "#print(x1*x2)\n",
    "X1,X2 = np.meshgrid(x1,x2)\n",
    "#Z = b + model[0]*x1 + model[1]*x2 + model[2]*x1**2 + model[3]*x1*x2 +  model[4]*x2**2\n",
    "Z = b + model[0]*X1 + model[1]*X2 + model[2]*X1**2 + model[3]*X1*X2 +  model[4]*X2**2\n",
    "#Z = p.intercept_ + model[0]*X1 + model[1]*X2 + model[2]*X1*X2\n",
    "plt.contour(X1, X2, Z, levels=[0])\n",
    "\n",
    "#plt.plot(x1, Z)\n",
    "\n"
   ]
  },
  {
   "cell_type": "markdown",
   "id": "9bbdc212",
   "metadata": {},
   "source": [
    "See model $w$ below:"
   ]
  },
  {
   "cell_type": "code",
   "execution_count": 29,
   "id": "a329b787",
   "metadata": {},
   "outputs": [
    {
     "name": "stdout",
     "output_type": "stream",
     "text": [
      "[ 2.07104487 -2.8145396  -0.84613868 -2.69662322 -1.40631846]\n"
     ]
    }
   ],
   "source": [
    "print(model)"
   ]
  },
  {
   "cell_type": "code",
   "execution_count": 30,
   "id": "8e0c1ea2",
   "metadata": {},
   "outputs": [
    {
     "name": "stdout",
     "output_type": "stream",
     "text": [
      "Training Error:\n",
      "0.16000000000000003\n",
      "Test Error:\n",
      "0.31999999999999995\n"
     ]
    }
   ],
   "source": [
    "accuracy_1 = p.score(X_train,y_train)\n",
    "accuracy_2 = p.score(X_test,y_test)\n",
    "\n",
    "train_error = 1-accuracy_1\n",
    "test_error = 1-accuracy_2\n",
    "\n",
    "print(\"Training Error:\")\n",
    "print(train_error)\n",
    "print(\"Test Error:\")\n",
    "print(test_error)"
   ]
  },
  {
   "cell_type": "markdown",
   "id": "b364a6c5",
   "metadata": {},
   "source": [
    "__(ii)__ Repeat (i) for a third-order polynomial."
   ]
  },
  {
   "cell_type": "code",
   "execution_count": 31,
   "id": "4c5e46cd",
   "metadata": {},
   "outputs": [
    {
     "name": "stdout",
     "output_type": "stream",
     "text": [
      "(50, 50)\n"
     ]
    },
    {
     "data": {
      "text/plain": [
       "<matplotlib.contour.QuadContourSet at 0x27156938730>"
      ]
     },
     "execution_count": 31,
     "metadata": {},
     "output_type": "execute_result"
    },
    {
     "data": {
      "image/png": "[encoded data removed]",
      "text/plain": [
       "<Figure size 432x288 with 1 Axes>"
      ]
     },
     "metadata": {
      "needs_background": "light"
     },
     "output_type": "display_data"
    }
   ],
   "source": [
    "from sklearn.datasets import make_moons\n",
    "X,y=make_moons(n_samples=100, shuffle=True, noise=0.1, random_state=None)\n",
    "X_train, X_test, y_train, y_test = train_test_split(X,y,test_size=25)\n",
    "#fig, ax = plt.subplots()\n",
    "for n_class in range(2):\n",
    "    plt.scatter(X[y==n_class][:, 0],\n",
    "               X[y==n_class][:, 1],\n",
    "               c=colors[n_class],\n",
    "               s=50,\n",
    "               label=str(n_class))\n",
    "X_train=np.concatenate((X_train, X_train[:,0:1]**2, X_train[:,0:1]**3, X_train[:,0:1]*X_train[:,1:2],X_train[:,0:1]**2*X_train[:,1:2],X_train[:,0:1]* X_train[:,1:2]**2,X_train[:,1:2]**2,X_train[:,1:2]**3), axis=1)\n",
    "X_train.shape\n",
    "X_test=np.concatenate((X_test, X_test[:,0:1]**2, X_test[:,0:1]**3, X_test[:,0:1]*X_test[:,1:2],X_test[:,0:1]**2*X_test[:,1:2],X_test[:,0:1]* X_test[:,1:2]**2,X_test[:,1:2]**2,X_test[:,1:2]**3), axis=1)\n",
    "X_test.shape\n",
    "\n",
    "p = Perceptron()\n",
    "p.fit(X_train,y_train)\n",
    "model = p.coef_.reshape(9,)\n",
    "b = p.intercept_\n",
    "x1 = np.linspace(-1,2,50)\n",
    "x2 = np.linspace(-1,2,50)\n",
    "X1,X2 = np.meshgrid(x1,x2)\n",
    "X3=X1*X2\n",
    "print(X3.shape)\n",
    "Z = b + model[0]*X1 + model[1]*X2 + model[2]*X1**2 + model[3]*X1**3 + model[4]*X1*X2 + model[5]*X1**2*X2 + model[6]*X1*X2**2 + model[7]*X2**2 + model[8]*X2**3\n",
    "plt.contour(X1,X2,Z,levels=[0])"
   ]
  },
  {
   "cell_type": "markdown",
   "id": "4af5ff82",
   "metadata": {},
   "source": [
    "See model $w$ below:"
   ]
  },
  {
   "cell_type": "code",
   "execution_count": 32,
   "id": "d6a97c05",
   "metadata": {},
   "outputs": [
    {
     "name": "stdout",
     "output_type": "stream",
     "text": [
      "[-4.68287589 -4.88062261 -6.85706026  7.39617382 -3.85369293 -1.55940583\n",
      " -0.09585776 -1.16718764 -2.82544533]\n"
     ]
    }
   ],
   "source": [
    "print(model)"
   ]
  },
  {
   "cell_type": "code",
   "execution_count": 33,
   "id": "b35275a1",
   "metadata": {},
   "outputs": [
    {
     "name": "stdout",
     "output_type": "stream",
     "text": [
      "Training Error: 0.0\n",
      "Test Error: 0.0\n"
     ]
    }
   ],
   "source": [
    "accuracy_1 = p.score(X_train,y_train)\n",
    "accuracy_2 = p.score(X_test,y_test)\n",
    "\n",
    "train_error = 1-accuracy_1\n",
    "test_error = 1-accuracy_2\n",
    "\n",
    "print(\"Training Error:\", train_error)\n",
    "print(\"Test Error:\", test_error)"
   ]
  },
  {
   "cell_type": "markdown",
   "id": "6f924c9f",
   "metadata": {},
   "source": [
    "## Computer Exercise 2.3 (Nonlinear PLA on Circles Datasheet) ##\n",
    "### Experiment ###\n",
    "__(i)__ Using the circles data set with noise=0.1 and factor=0.5, run PLA (linear perceptron)."
   ]
  },
  {
   "cell_type": "code",
   "execution_count": 34,
   "id": "369876ba",
   "metadata": {},
   "outputs": [
    {
     "data": {
      "text/plain": [
       "[<matplotlib.lines.Line2D at 0x27156987af0>]"
      ]
     },
     "execution_count": 34,
     "metadata": {},
     "output_type": "execute_result"
    },
    {
     "data": {
      "image/png": "[encoded data removed]",
      "text/plain": [
       "<Figure size 432x288 with 1 Axes>"
      ]
     },
     "metadata": {
      "needs_background": "light"
     },
     "output_type": "display_data"
    }
   ],
   "source": [
    "from sklearn.datasets import make_circles\n",
    "X,y=make_circles(n_samples=100, shuffle=True, noise=0.1, random_state=None,factor=0.5)\n",
    "\n",
    "X_train, X_test, y_train, y_test = train_test_split(X,y,train_size= 75, test_size=25)\n",
    "\n",
    "from sklearn.linear_model import Perceptron\n",
    "p = Perceptron()\n",
    "p.fit(X_train,y_train)\n",
    "model = p.coef_.reshape(2,)\n",
    "b = p.intercept_\n",
    "\n",
    "#fig, ax = plt.subplots()\n",
    "for n_class in range(2):\n",
    "    plt.scatter(X[y==n_class][:, 0], \n",
    "               X[y==n_class][:, 1], \n",
    "               c=colors[n_class], \n",
    "               s=50, \n",
    "               label=str(n_class))\n",
    "\n",
    "#RUN LINEAR PERCEPTRON   \n",
    "x1 = np.arange(-1, 2, 0.01)\n",
    "plt.plot(x1, (model[0]*x1 - model[1]*x1))"
   ]
  },
  {
   "cell_type": "markdown",
   "id": "6fa6db9c",
   "metadata": {},
   "source": [
    "__(ii)__ Find the training and test error, and plot the decision surface on a scatter plot of the training\n",
    "set as a function of $x_1$ and $x_2$. Repeat for several different random number seeds and describe\n",
    "the differences of the classifier, if any.\n"
   ]
  },
  {
   "cell_type": "code",
   "execution_count": 35,
   "id": "4207b471",
   "metadata": {},
   "outputs": [
    {
     "name": "stdout",
     "output_type": "stream",
     "text": [
      "Training Error:\n",
      "0.48\n",
      "Test Error:\n",
      "0.56\n"
     ]
    }
   ],
   "source": [
    "accuracy_1 = p.score(X_train,y_train)\n",
    "accuracy_2 = p.score(X_test,y_test)\n",
    "\n",
    "train_error = 1-accuracy_1\n",
    "test_error = 1-accuracy_2\n",
    "\n",
    "print(\"Training Error:\")\n",
    "print(train_error)\n",
    "print(\"Test Error:\")\n",
    "print(test_error)"
   ]
  },
  {
   "cell_type": "code",
   "execution_count": 36,
   "id": "42a990f1",
   "metadata": {},
   "outputs": [
    {
     "name": "stdout",
     "output_type": "stream",
     "text": [
      "Training Error:\n",
      "0.48\n",
      "Test Error:\n",
      "0.56\n"
     ]
    },
    {
     "data": {
      "image/png": "[encoded data removed]",
      "text/plain": [
       "<Figure size 432x288 with 1 Axes>"
      ]
     },
     "metadata": {
      "needs_background": "light"
     },
     "output_type": "display_data"
    }
   ],
   "source": [
    "from sklearn.datasets import make_circles\n",
    "X,y=make_circles(n_samples=100, shuffle=True, noise=0.1, random_state=1,factor=0.5)\n",
    "\n",
    "X_train, X_test, y_train, y_test = train_test_split(X,y,train_size= 75, test_size=25)\n",
    "\n",
    "from sklearn.linear_model import Perceptron\n",
    "p = Perceptron()\n",
    "p.fit(X_train,y_train)\n",
    "model = p.coef_.reshape(2,)\n",
    "b = p.intercept_\n",
    "\n",
    "#fig, ax = plt.subplots()\n",
    "for n_class in range(2):\n",
    "    plt.scatter(X_train[y_train==n_class][:, 0], \n",
    "               X_train[y_train==n_class][:, 1], \n",
    "               c=colors[n_class], \n",
    "               s=50, \n",
    "               label=str(n_class))\n",
    "\n",
    "#RUN LINEAR PERCEPTRON   \n",
    "x1 = np.arange(-1, 2, 0.01)\n",
    "plt.plot(x1, (-b - model[0]*x1)/model[1])\n",
    "\n",
    "accuracy_1 = p.score(X_train,y_train)\n",
    "accuracy_2 = p.score(X_test,y_test)\n",
    "\n",
    "train_error = 1-accuracy_1\n",
    "test_error = 1-accuracy_2\n",
    "\n",
    "print(\"Training Error:\")\n",
    "print(train_error)\n",
    "print(\"Test Error:\")\n",
    "print(test_error)"
   ]
  },
  {
   "cell_type": "code",
   "execution_count": 37,
   "id": "0c6be7c4",
   "metadata": {},
   "outputs": [
    {
     "name": "stdout",
     "output_type": "stream",
     "text": [
      "Training Error:\n",
      "0.48\n",
      "Test Error:\n",
      "0.56\n"
     ]
    },
    {
     "data": {
      "image/png": "[encoded data removed]",
      "text/plain": [
       "<Figure size 432x288 with 1 Axes>"
      ]
     },
     "metadata": {
      "needs_background": "light"
     },
     "output_type": "display_data"
    }
   ],
   "source": [
    "from sklearn.datasets import make_circles\n",
    "X,y=make_circles(n_samples=100, shuffle=True, noise=0.1, random_state=34,factor=0.5)\n",
    "\n",
    "X_train, X_test, y_train, y_test = train_test_split(X,y,train_size= 75, test_size=25)\n",
    "\n",
    "from sklearn.linear_model import Perceptron\n",
    "p = Perceptron()\n",
    "p.fit(X_train,y_train)\n",
    "model = p.coef_.reshape(2,)\n",
    "b = p.intercept_\n",
    "\n",
    "#fig, ax = plt.subplots()\n",
    "for n_class in range(2):\n",
    "    plt.scatter(X[y==n_class][:, 0], \n",
    "               X[y==n_class][:, 1], \n",
    "               c=colors[n_class], \n",
    "               s=50, \n",
    "               label=str(n_class))\n",
    "#RUN LINEAR PERCEPTRON   \n",
    "x1 = np.arange(-1, 2, 0.01)\n",
    "plt.plot(x1, (-b - model[0]*x1)/model[1])\n",
    "\n",
    "accuracy_1 = p.score(X_train,y_train)\n",
    "accuracy_2 = p.score(X_test,y_test)\n",
    "\n",
    "train_error = 1-accuracy_1\n",
    "test_error = 1-accuracy_2\n",
    "\n",
    "print(\"Training Error:\")\n",
    "print(train_error)\n",
    "print(\"Test Error:\")\n",
    "print(test_error)"
   ]
  },
  {
   "cell_type": "code",
   "execution_count": 38,
   "id": "af398bfd",
   "metadata": {},
   "outputs": [
    {
     "name": "stdout",
     "output_type": "stream",
     "text": [
      "Training Error:\n",
      "0.52\n",
      "Test Error:\n",
      "0.43999999999999995\n"
     ]
    },
    {
     "data": {
      "image/png": "[encoded data removed]",
      "text/plain": [
       "<Figure size 432x288 with 1 Axes>"
      ]
     },
     "metadata": {
      "needs_background": "light"
     },
     "output_type": "display_data"
    }
   ],
   "source": [
    "from sklearn.datasets import make_circles\n",
    "X,y=make_circles(n_samples=100, shuffle=True, noise=0.1, random_state=1000,factor=0.5)\n",
    "\n",
    "X_train, X_test, y_train, y_test = train_test_split(X,y,train_size= 75, test_size=25)\n",
    "\n",
    "from sklearn.linear_model import Perceptron\n",
    "p = Perceptron()\n",
    "p.fit(X_train,y_train)\n",
    "model = p.coef_.reshape(2,)\n",
    "b = p.intercept_\n",
    "\n",
    "#fig, ax = plt.subplots()\n",
    "for n_class in range(2):\n",
    "    plt.scatter(X[y==n_class][:, 0], \n",
    "               X[y==n_class][:, 1], \n",
    "               c=colors[n_class], \n",
    "               s=50, \n",
    "               label=str(n_class))\n",
    "#RUN LINEAR PERCEPTRON   \n",
    "x1 = np.arange(-1, 2, 0.01)\n",
    "plt.plot(x1, (-b - model[0]*x1)/model[1])\n",
    "\n",
    "accuracy_1 = p.score(X_train,y_train)\n",
    "accuracy_2 = p.score(X_test,y_test)\n",
    "\n",
    "train_error = 1-accuracy_1\n",
    "test_error = 1-accuracy_2\n",
    "\n",
    "print(\"Training Error:\")\n",
    "print(train_error)\n",
    "print(\"Test Error:\")\n",
    "print(test_error)"
   ]
  },
  {
   "cell_type": "markdown",
   "id": "092a55bf",
   "metadata": {},
   "source": [
    ">There does not seem to be any difference between the classifiers even with differing random number seeds. As a function of x_1 and x_2 "
   ]
  },
  {
   "cell_type": "markdown",
   "id": "4c7a543e",
   "metadata": {},
   "source": [
    "### Question- Unbalanced Data Sets ###\n",
    "If there are 3-5 times more data samples in the outer circle than there are in the inner circle, what\n",
    "do you think PLA will produce as a classifier?\n",
    "> The PLA will either produce a smaller circle or the PLA will consider the data from the inner circle as an outlier and disregard them."
   ]
  },
  {
   "cell_type": "markdown",
   "id": "01c511be",
   "metadata": {},
   "source": [
    "### Experiment: ###\n",
    "\n",
    "__(i)__ Repeat the previous experiment using a nonlinear perceptron with a nonlinear feature space\n",
    "defined by vectors z of the form\n",
    "$$ z = [x_1, x_2, x_1^2, x_1x_2, x_2^2]^T $$\n",
    "Discuss the results and what you find."
   ]
  },
  {
   "cell_type": "code",
   "execution_count": 39,
   "id": "b30386bf",
   "metadata": {},
   "outputs": [
    {
     "name": "stdout",
     "output_type": "stream",
     "text": [
      "(50, 50)\n"
     ]
    },
    {
     "data": {
      "text/plain": [
       "<matplotlib.contour.QuadContourSet at 0x27156514460>"
      ]
     },
     "execution_count": 39,
     "metadata": {},
     "output_type": "execute_result"
    },
    {
     "data": {
      "image/png": "[encoded data removed]",
      "text/plain": [
       "<Figure size 432x288 with 1 Axes>"
      ]
     },
     "metadata": {
      "needs_background": "light"
     },
     "output_type": "display_data"
    }
   ],
   "source": [
    "from sklearn.datasets import make_circles\n",
    "X,y=make_circles(n_samples=100, shuffle=True, noise=0.1, random_state=None,factor=0.5)\n",
    "X_train, X_test, y_train, y_test = train_test_split(X,y,train_size=75,test_size=25)\n",
    "#fig, ax = plt.subplots()\n",
    "for n_class in range(2):\n",
    "    plt.scatter(X[y==n_class][:, 0],\n",
    "               X[y==n_class][:, 1],\n",
    "               c=colors[n_class],\n",
    "               s=50,\n",
    "               label=str(n_class))\n",
    "    \n",
    "X_train=np.concatenate((X_train, X_train[:,0:1]**2, X_train[:,0:1]*X_train[:,1:2], X_train[:,1:2]**2), axis=1)\n",
    "\n",
    "p = Perceptron()\n",
    "p.fit(X_train,y_train)\n",
    "model = p.coef_.reshape(5,)\n",
    "b = p.intercept_\n",
    "\n",
    "x1 = np.linspace(-1,1,50)\n",
    "x2 = np.linspace(-1,1,50)\n",
    "X1,X2 = np.meshgrid(x1,x2)\n",
    "X3=X1*X2\n",
    "print(X3.shape)\n",
    "Z = b + model[0]*X1 + model[1]*X2 +model[2]*X1**2+ model[3]*X1*X2+model[4]*X2**2\n",
    "plt.contour(X1,X2,Z,levels=[0])"
   ]
  },
  {
   "cell_type": "markdown",
   "id": "212155b2",
   "metadata": {},
   "source": [
    "__Results:__ A second-order polynomial of the form $z$ creates a circular decision boundary which separates the data points found in that are classified as class 1 and class 2 respectively. Class 1 is found on the outside of the circle while class 2 is found inside."
   ]
  },
  {
   "cell_type": "markdown",
   "id": "27faa83b",
   "metadata": {},
   "source": [
    "__(ii)__ Comment on whether or not going to a third-order polynomial will improve your classifier."
   ]
  },
  {
   "cell_type": "markdown",
   "id": "89248589",
   "metadata": {},
   "source": [
    ">A third-order polynomial will not improve the classifier as it is an odd polynomial and is incapable of drawing a circular boundary. Perhaps a fourth-order polynomial could improve the classifier. However, there is also a risk of overfitting the data."
   ]
  },
  {
   "cell_type": "code",
   "execution_count": null,
   "id": "2505fa21",
   "metadata": {},
   "outputs": [],
   "source": []
  }
 ],
 "metadata": {
  "kernelspec": {
   "display_name": "Python 3",
   "language": "python",
   "name": "python3"
  },
  "language_info": {
   "codemirror_mode": {
    "name": "ipython",
    "version": 3
   },
   "file_extension": ".py",
   "mimetype": "text/x-python",
   "name": "python",
   "nbconvert_exporter": "python",
   "pygments_lexer": "ipython3",
   "version": "3.8.8"
  }
 },
 "nbformat": 4,
 "nbformat_minor": 5
}
